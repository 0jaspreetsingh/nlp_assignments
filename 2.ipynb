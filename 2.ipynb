{
  "cells": [
    {
      "cell_type": "markdown",
      "id": "97d30860",
      "metadata": {
        "id": "97d30860"
      },
      "source": [
        "<h2>Task 1: </h2>\n",
        "<h3>Analysing Pre-trained Word Embeddings (6 Points)</h3>\n"
      ]
    },
    {
      "cell_type": "code",
      "execution_count": 29,
      "id": "ae4b55ea",
      "metadata": {
        "id": "ae4b55ea"
      },
      "outputs": [],
      "source": [
        "import numpy as np\n",
        "from matplotlib import pyplot as plt\n",
        "from sklearn.decomposition import PCA"
      ]
    },
    {
      "cell_type": "code",
      "execution_count": 30,
      "id": "29f54444",
      "metadata": {
        "id": "29f54444"
      },
      "outputs": [],
      "source": [
        "\"\"\"\n",
        "    Following function returns pretrained glove model in the dictionary format.\n",
        "    The keys will be all the words in vocabulary.\n",
        "    The value will be the corresponding vector.\n",
        "\"\"\"\n",
        "\n",
        "def load_glove_model(filename):\n",
        "    model = {}\n",
        "    with open(filename, 'r') as f:\n",
        "        for line in f:\n",
        "            split_line = line.split()\n",
        "            word = split_line[0]\n",
        "            embedding = np.array(split_line[1:], dtype=np.float64)\n",
        "            model[word] = embedding\n",
        "    print(\"Model loaded !\")\n",
        "    print(f\"{len(model)} words found with {len(model[word])} vector size !\")\n",
        "    return model"
      ]
    },
    {
      "cell_type": "code",
      "execution_count": 31,
      "id": "rXK5L_-cYOCQ",
      "metadata": {
        "colab": {
          "base_uri": "https://localhost:8080/"
        },
        "id": "rXK5L_-cYOCQ",
        "outputId": "bcab1deb-1378-4275-95d9-5ed9f125b700"
      },
      "outputs": [
        {
          "name": "stdout",
          "output_type": "stream",
          "text": [
            "--2022-11-28 10:35:44--  https://nlp.stanford.edu/data/glove.6B.zip\n",
            "Resolving nlp.stanford.edu (nlp.stanford.edu)... 171.64.67.140\n",
            "Connecting to nlp.stanford.edu (nlp.stanford.edu)|171.64.67.140|:443... connected.\n",
            "HTTP request sent, awaiting response... 301 Moved Permanently\n",
            "Location: https://downloads.cs.stanford.edu/nlp/data/glove.6B.zip [following]\n",
            "--2022-11-28 10:35:44--  https://downloads.cs.stanford.edu/nlp/data/glove.6B.zip\n",
            "Resolving downloads.cs.stanford.edu (downloads.cs.stanford.edu)... 171.64.64.22\n",
            "Connecting to downloads.cs.stanford.edu (downloads.cs.stanford.edu)|171.64.64.22|:443... connected.\n",
            "HTTP request sent, awaiting response... 200 OK\n",
            "Length: 862182613 (822M) [application/zip]\n",
            "Saving to: ‘glove.6B.zip’\n",
            "\n",
            "glove.6B.zip        100%[===================>] 822.24M  4.76MB/s    in 2m 40s  \n",
            "\n",
            "2022-11-28 10:38:24 (5.15 MB/s) - ‘glove.6B.zip’ saved [862182613/862182613]\n",
            "\n"
          ]
        }
      ],
      "source": [
        "!wget https://nlp.stanford.edu/data/glove.6B.zip\n"
      ]
    },
    {
      "cell_type": "code",
      "execution_count": 32,
      "id": "e7alCysVZSlC",
      "metadata": {
        "colab": {
          "base_uri": "https://localhost:8080/"
        },
        "id": "e7alCysVZSlC",
        "outputId": "e50496e1-1562-49d3-eaec-b9a00a082dc6"
      },
      "outputs": [
        {
          "name": "stdout",
          "output_type": "stream",
          "text": [
            "Archive:  /content/glove.6B.zip\n",
            "  inflating: glove.6B.50d.txt        \n",
            "  inflating: glove.6B.100d.txt       \n",
            "  inflating: glove.6B.200d.txt       \n",
            "  inflating: glove.6B.300d.txt       \n"
          ]
        }
      ],
      "source": [
        "!unzip /content/glove.6B.zip\n"
      ]
    },
    {
      "cell_type": "code",
      "execution_count": 33,
      "id": "1b79dc34",
      "metadata": {
        "colab": {
          "base_uri": "https://localhost:8080/"
        },
        "id": "1b79dc34",
        "outputId": "46dc6484-04e5-4396-b8d5-3a14278a5e51"
      },
      "outputs": [
        {
          "name": "stdout",
          "output_type": "stream",
          "text": [
            "Model loaded !\n",
            "400000 words found with 50 vector size !\n"
          ]
        }
      ],
      "source": [
        "filename = \"./glove.6B.50d.txt\" #\"\"\n",
        "model = load_glove_model(filename)\n",
        "vocab = list(model.keys())"
      ]
    },
    {
      "cell_type": "markdown",
      "id": "4a5b37c8",
      "metadata": {
        "id": "4a5b37c8"
      },
      "source": [
        "#### Complete the following cosine and euclidean distance functions"
      ]
    },
    {
      "cell_type": "code",
      "execution_count": 34,
      "id": "4288b62f",
      "metadata": {
        "id": "4288b62f"
      },
      "outputs": [],
      "source": [
        "def norm(vector, p):\n",
        "    return sum([i**p for i in vector])**(1/p)\n",
        "\n",
        "def cosine_distance(vec_a, vec_b):\n",
        "    \n",
        "    dist = None\n",
        "    # TODO implement the cosine distance without using\n",
        "    # any additional library\n",
        "    dist = vec_a @ vec_b/(norm(vec_a,2) * norm(vec_b,2))\n",
        "    return 1 - dist"
      ]
    },
    {
      "cell_type": "code",
      "execution_count": 35,
      "id": "rd5Hdus51D4A",
      "metadata": {
        "colab": {
          "base_uri": "https://localhost:8080/"
        },
        "id": "rd5Hdus51D4A",
        "outputId": "1458f55d-2a10-41e6-b061-bb001200d678"
      },
      "outputs": [
        {
          "data": {
            "text/plain": [
              "-2.220446049250313e-16"
            ]
          },
          "execution_count": 35,
          "metadata": {},
          "output_type": "execute_result"
        }
      ],
      "source": [
        "cosine_distance(model[\"female\"],model[\"female\"])"
      ]
    },
    {
      "cell_type": "code",
      "execution_count": 36,
      "id": "2ee99d93",
      "metadata": {
        "id": "2ee99d93"
      },
      "outputs": [],
      "source": [
        "def euclidean_distance(vec_a, vec_b):\n",
        "    \"\"\"\n",
        "    Calculates euclidean distance between two vectors.\n",
        "    \"\"\"\n",
        "    dist = None\n",
        "    # TODO implement the euclidean distance without using\n",
        "    # any additional library\n",
        "    dist = norm(vec_a-vec_b,2)\n",
        "    return dist"
      ]
    },
    {
      "cell_type": "code",
      "execution_count": 37,
      "id": "ysxAd9hnSLZk",
      "metadata": {
        "colab": {
          "base_uri": "https://localhost:8080/"
        },
        "id": "ysxAd9hnSLZk",
        "outputId": "c62a7090-63d1-4b75-f19c-6d702d85fc71"
      },
      "outputs": [
        {
          "data": {
            "text/plain": [
              "0.0"
            ]
          },
          "execution_count": 37,
          "metadata": {},
          "output_type": "execute_result"
        }
      ],
      "source": [
        "euclidean_distance(model[\"female\"],model[\"female\"])"
      ]
    },
    {
      "cell_type": "markdown",
      "id": "e2045f6b",
      "metadata": {
        "id": "e2045f6b"
      },
      "source": [
        "<h4>Part a:</h4>\n"
      ]
    },
    {
      "cell_type": "markdown",
      "id": "6c14d054",
      "metadata": {
        "id": "6c14d054"
      },
      "source": [
        "#### Chose random pairs of words as mentioned in the sheet and create an array of 'common_words'"
      ]
    },
    {
      "cell_type": "code",
      "execution_count": 39,
      "id": "d1cc8744",
      "metadata": {
        "id": "d1cc8744"
      },
      "outputs": [],
      "source": [
        "common_words = [\"female\", \"queen\", \"lady\", \"woman\", \"daughter\", \"apple\", \"single\", \"gift\", \"create\", \"finish\" ]"
      ]
    },
    {
      "cell_type": "code",
      "execution_count": 40,
      "id": "644fc25e",
      "metadata": {
        "colab": {
          "base_uri": "https://localhost:8080/",
          "height": 585
        },
        "id": "644fc25e",
        "outputId": "b84d963c-dbde-4d5e-e542-f7fdcb34e3a5"
      },
      "outputs": [
        {
          "data": {
            "image/png": "[encoded data removed]",
            "text/plain": [
              "<Figure size 288x288 with 1 Axes>"
            ]
          },
          "metadata": {
            "needs_background": "light"
          },
          "output_type": "display_data"
        },
        {
          "data": {
            "image/png": "[encoded data removed]",
            "text/plain": [
              "<Figure size 288x288 with 1 Axes>"
            ]
          },
          "metadata": {
            "needs_background": "light"
          },
          "output_type": "display_data"
        }
      ],
      "source": [
        "for i in [cosine_distance, euclidean_distance]:\n",
        "    sim = []\n",
        "    for j in common_words:\n",
        "        temp = []\n",
        "        for k in common_words:\n",
        "            temp.append(i(model[j], model[k]))\n",
        "        sim.append(temp)\n",
        "    data = np.array(sim)\n",
        "    data.resize(10, 10)\n",
        "    plt.figure(figsize = (4, 4))\n",
        "    plt.imshow(data, interpolation='nearest')\n",
        "    plt.xticks(range(10), common_words, rotation=90);\n",
        "    plt.yticks(range(10), common_words);\n",
        "    plt.show()"
      ]
    },
    {
      "cell_type": "markdown",
      "id": "b3b4c3dd",
      "metadata": {
        "id": "b3b4c3dd"
      },
      "source": [
        "###observation and analysis\n",
        "As we can see from the following plots tha our initial assumptions of relatedness between similar words appears to he true. In case of Homonyms(words that are spelled alike but have different meanings eg, buy and by) it can be seen that they will result in a distance close to 0 (no idea how we can differentiate homonyms :( hard to tell without context? maybe using ngrams can get us the context we need).\n"
      ]
    },
    {
      "cell_type": "markdown",
      "id": "3dcafd83",
      "metadata": {
        "id": "3dcafd83"
      },
      "source": [
        "<h4>Part b:</h4>"
      ]
    },
    {
      "cell_type": "markdown",
      "id": "8860a2d7",
      "metadata": {
        "id": "8860a2d7"
      },
      "source": [
        "#### Perform PCA on the obtained word vectors and plot the first two components."
      ]
    },
    {
      "cell_type": "code",
      "execution_count": 41,
      "id": "8-UGWxxt-tU4",
      "metadata": {
        "colab": {
          "base_uri": "https://localhost:8080/"
        },
        "id": "8-UGWxxt-tU4",
        "outputId": "e6e5ef83-5bf1-493c-ca90-1b3a08033d3d"
      },
      "outputs": [
        {
          "name": "stdout",
          "output_type": "stream",
          "text": [
            "(400000, 50)\n",
            "(400000, 2)\n",
            "[[ 1.45755389e-01  7.22366194e-02 -5.83668285e-02 -3.84047441e-02\n",
            "   4.40393714e-02  7.65097932e-02 -7.25766064e-02 -1.47169079e-01\n",
            "  -4.48917403e-02  1.45213980e-02 -4.58940229e-02 -1.32308230e-01\n",
            "  -2.46559467e-02  2.91504296e-02  4.33610718e-02  5.39584720e-02\n",
            "  -6.60364647e-02  7.45326542e-02 -2.73433799e-01 -6.40102684e-02\n",
            "   9.98247450e-02  1.76743302e-02  4.39125481e-02  1.42945352e-02\n",
            "  -1.23501406e-01 -3.63784168e-01 -1.43694083e-01  5.90499295e-02\n",
            "   8.94782689e-02 -7.13979248e-02  6.56982906e-01  1.48706483e-01\n",
            "  -1.39568017e-01 -5.04861231e-02  6.24154861e-02  4.79999949e-03\n",
            "  -2.68204323e-02 -1.05160036e-02 -5.17176072e-02 -1.28709822e-01\n",
            "  -7.97190290e-02 -6.83388892e-02  5.92200524e-02  1.70495423e-01\n",
            "  -1.12745853e-01  1.15847790e-01  4.55873774e-02  1.57751112e-02\n",
            "  -2.23779050e-02 -2.17968656e-01]\n",
            " [ 3.18326142e-02  1.34788905e-02  2.75469615e-02  6.16405384e-02\n",
            "   1.85323659e-01  1.16732087e-01 -2.32350985e-01 -1.17488364e-01\n",
            "  -7.09732903e-02 -1.14361955e-01  4.69560002e-02  2.97510297e-01\n",
            "  -3.71935150e-01 -6.18771902e-02  1.86126057e-01  4.99146979e-02\n",
            "   9.07077580e-02 -1.72868999e-01 -1.44566882e-03 -1.02252994e-01\n",
            "  -8.29371733e-02  1.53678747e-01  3.01932586e-02 -1.81548716e-01\n",
            "   5.54924503e-02 -2.65341798e-01  4.73267280e-02 -7.49415608e-02\n",
            "  -1.70678445e-01 -6.98191040e-03  1.19842487e-01 -6.36232807e-02\n",
            "   2.11142295e-03 -5.64277641e-02  1.82110843e-02 -4.66819410e-02\n",
            "   2.04359182e-02  1.29323585e-01  1.65638872e-01  1.43682182e-01\n",
            "  -8.35823045e-03  3.91935003e-01 -9.62753580e-02 -1.78858542e-01\n",
            "   1.31957916e-01  3.15093543e-04 -1.67432995e-01 -9.94571058e-02\n",
            "  -4.83139975e-02  1.57946262e-01]]\n",
            "[0.05417407 0.04412471]\n"
          ]
        }
      ],
      "source": [
        "vocab_vec = [model[w] for w in vocab]\n",
        "\n",
        "import pandas as pd\n",
        "\n",
        "subset = np.array(vocab_vec)\n",
        "pca = PCA(n_components=2)\n",
        "projected = pca.fit_transform(subset)\n",
        "\n",
        "print(subset.shape)\n",
        "print(projected.shape)\n",
        "#print components\n",
        "print(pca.components_) #components\n",
        "print(pca.explained_variance_ratio_)\n",
        "\n"
      ]
    },
    {
      "cell_type": "code",
      "execution_count": 42,
      "id": "c1ce2838",
      "metadata": {
        "colab": {
          "base_uri": "https://localhost:8080/",
          "height": 1000
        },
        "id": "c1ce2838",
        "outputId": "a2b80135-3974-4bf1-8044-f5bc8403b075",
        "scrolled": false
      },
      "outputs": [
        {
          "name": "stdout",
          "output_type": "stream",
          "text": [
            "['female' 'queen' 'lady' 'woman' 'daughter' 'apple' 'single' 'gift'\n",
            " 'create' 'finish' '67.94' 'mainstem' 'continent-wide' 'post-crash'\n",
            " 'collagen' 'revital' 'kltm' '200,000-a' 'maultsby' 'algarotti' 'wednesay'\n",
            " 'extremadura' 'larfleeze' 'stating' '108-107' 'craters' '2,713' 'demento'\n",
            " 'buhai' '12.91' 'sce' 'sachal' 'stimulates' 'plebeians' 'showpieces'\n",
            " 'thrasivoulos' 'indiaman' 'kimbo' 'naomichi' 'zito' 'bbss' 'thurlby'\n",
            " 'tutong' 'majoli' 'manyika' '1509' 'shortland' 'flatmate' 'shevah'\n",
            " 'funnyordie.com']\n",
            "50\n"
          ]
        },
        {
          "data": {
            "image/png": "[encoded data removed]",
            "text/plain": [
              "<Figure size 864x864 with 1 Axes>"
            ]
          },
          "metadata": {
            "needs_background": "light"
          },
          "output_type": "display_data"
        }
      ],
      "source": [
        "\n",
        "display_words = np.concatenate([np.array(common_words), np.random.choice(vocab, 40)])\n",
        "print(display_words)\n",
        "print(len(display_words))\n",
        "display_word_vec = [model[w] for w in display_words]\n",
        "#print(display_word_vec)\n",
        "\n",
        "display_subset = np.array(display_word_vec)\n",
        "pca = PCA(n_components=2)\n",
        "display_projected = pca.fit_transform(display_subset)\n",
        "#print(display_subset)\n",
        "\n",
        "plt.figure(figsize=(12, 12))\n",
        "\n",
        "# TODO: Visualize the PCA for the previously selected common words \n",
        "\n",
        "\n",
        "plt.scatter(display_projected[:, 0], display_projected[:, 1], alpha=0.5)\n",
        "for i, word in enumerate(display_words):\n",
        "  plt.text(display_projected[i, 0], display_projected[i, 1],display_words[i], fontsize=12)\n",
        "\n",
        "plt.xlabel('component 1')\n",
        "plt.ylabel('component 2')\n",
        "plt.tight_layout()\n",
        "\n",
        "plt.show()"
      ]
    },
    {
      "cell_type": "markdown",
      "id": "c5b77457",
      "metadata": {
        "id": "c5b77457"
      },
      "source": [
        "### Observations and analysis\n",
        "We can see that our assumptions about words (lady,female, woman, daughter,queen) seem to correlate with the visualisation above."
      ]
    },
    {
      "cell_type": "markdown",
      "id": "e664efe7",
      "metadata": {
        "id": "e664efe7"
      },
      "source": [
        "<h2>Task 2: </h2>\n",
        "<h3>Computing Word Embeddings : Word2Vec (12 points)</h3>\n",
        "<h4>Part a:</h4>\n"
      ]
    },
    {
      "cell_type": "markdown",
      "id": "8d29efe4",
      "metadata": {
        "id": "8d29efe4"
      },
      "source": [
        "#### Train the following CBOW and SkipGram models by completing their 'forward' functions. Use appropriate activation functions wherever necessary."
      ]
    },
    {
      "cell_type": "code",
      "execution_count": 43,
      "id": "633b7a25",
      "metadata": {
        "id": "633b7a25"
      },
      "outputs": [],
      "source": [
        "import torch\n",
        "import torch.nn as nn\n",
        "import torch.optim as optim\n",
        "import torch.nn.functional as F\n",
        "from nltk.tokenize import sent_tokenize"
      ]
    },
    {
      "cell_type": "code",
      "execution_count": 44,
      "id": "64be699d",
      "metadata": {
        "id": "64be699d"
      },
      "outputs": [],
      "source": [
        "raw_text = \"\"\"The stand up was by far the best one. The comedy special was horrible. This movie also has a very good ending. The ending was sorry as I just didn't care for the characters. The plot is tight and the acting is flawless. The plot is predictable and the movie is long. Good historical drama which is very educational and entertaining. It was entirely over dramatic and boring. The romance of the movie is good and nicely presented. It was the most terrible romance movie I had ever watched. Movie has a unique science fiction element which makes it hillarious. The old science fiction trope is overused and stale. This movie is rich with action and gore. To make it interesting, they threw in some gore but were unsuccessful. The cinematography is outstanding. This movie had an inconsistent cinematography. For a comedy this has a decent and inventive plot. The plot is an absolute mess. The movie has lots of plot twists which has a huge payoff. There are so many plot twists that you can never be sure to root for. The story and ending were so brutal that they made up for a lot. There was no explanation, the ending was incomplete. Great story line, fantastic music, great visual effects. Thread bare plot, bad acting, bad visual effects. A great concept, a great cast and I loved it. The concept was hardly original.\"\"\""
      ]
    },
    {
      "cell_type": "code",
      "execution_count": 45,
      "id": "09e936af",
      "metadata": {
        "id": "09e936af"
      },
      "outputs": [],
      "source": [
        "class CBOW(nn.Module):\n",
        "  \n",
        "    def __init__(self, vocab_size, embedding_dim):\n",
        "        super(CBOW, self).__init__()\n",
        "\n",
        "        self.embeddings = nn.Embedding(vocab_size, embedding_dim)\n",
        "        self.linear1 = nn.Linear(embedding_dim, 128)\n",
        "        self.linear2 = nn.Linear(128, vocab_size)\n",
        "\n",
        "        self.sigmoid = nn.Sigmoid()\n",
        "\n",
        "        self.log_softmax = nn.LogSoftmax(dim=1)\n",
        "\n",
        "    def forward(self, inputs):\n",
        "        # : Complete the function\n",
        "        output = sum(self.embeddings(inputs)).view(1, -1)\n",
        "        output = self.sigmoid(output)\n",
        "        output = self.linear1(output)\n",
        "        output = self.sigmoid(output)\n",
        "        output = self.linear2(output)\n",
        "        output = self.log_softmax(output)\n",
        "\n",
        "        return output"
      ]
    },
    {
      "cell_type": "code",
      "execution_count": 46,
      "id": "7e5fe798",
      "metadata": {
        "id": "7e5fe798"
      },
      "outputs": [],
      "source": [
        "class SkipGram(nn.Module):\n",
        "    \n",
        "    def __init__(self, vocab_size, context_size, embedding_dim):\n",
        "        super(SkipGram, self).__init__()\n",
        "\n",
        "        self.embeddings = nn.Embedding(vocab_size, embedding_dim)\n",
        "        self.linear1 = nn.Linear(embedding_dim, 128)\n",
        "        self.linear2 = nn.Linear(128, context_size * vocab_size)\n",
        "        self.context_size = context_size\n",
        "\n",
        "        self.sigmoid = nn.Sigmoid()\n",
        "\n",
        "        self.log_softmax = nn.LogSoftmax(dim=1)\n",
        "\n",
        "    def forward(self, inputs):\n",
        "        # TODO: Complete the function\n",
        "        # Hint: Exactly same as CBOW forward function just have to use\n",
        "        # 'context_size' in the last layer to resize view`\n",
        "        output = sum(self.embeddings(inputs)).view(1, -1)\n",
        "        output = self.sigmoid(output)\n",
        "        output = self.linear1(output)\n",
        "        output = self.sigmoid(output)\n",
        "        output = self.linear2(output)\n",
        "        output = self.log_softmax(output).view(self.context_size,-1)\n",
        "\n",
        "        return output"
      ]
    },
    {
      "cell_type": "code",
      "execution_count": 47,
      "id": "11c82d10",
      "metadata": {
        "id": "11c82d10"
      },
      "outputs": [],
      "source": [
        "def generate_training_data(raw_text, context_size, CBOW=True):\n",
        "    \"\"\"\n",
        "    TODO:\n",
        "    Generate training data from the raw text in appropriate format. An output\n",
        "    containing list of tuples of context and target is expected. A context will\n",
        "    be list of words and target will be singular word.\n",
        "    Based on 'CBOW' boolean list of tuples will be either\n",
        "    [(context, target), ...] or if false it will be [(target, context), ...]\n",
        "\n",
        "    For eg for the following raw_text =\n",
        "    \"We are about to study the idea of business\"\n",
        "    with CBOW = True and context_size = 2, we get (list with five tuples):\n",
        "\n",
        "    \"We are to study\" -> (['We', 'are', 'to', 'study'], 'about')\n",
        "    \"are about study the\" -> (['are', 'about', 'study', 'the'], 'to')\n",
        "    \"about to the idea\" -> (['about', 'to', 'the', 'idea'], 'study')\n",
        "    \"to study idea of\" -> (['to', 'study', 'idea', 'of'], 'the')\n",
        "    \"study the of business\" -> (['study', 'the', 'of', 'business'], 'idea')]\n",
        "\n",
        "    Similarly if CBOW = False i.e. dataset is for skip gram then:\n",
        "    \n",
        "    \"We are to study\" -> ('about', ['We', 'are', 'to', 'study'])\n",
        "    .\n",
        "    .\n",
        "    .\n",
        "\n",
        "    \"\"\"\n",
        "    data = []\n",
        "\n",
        "    sentences = raw_text.split(\".\")\n",
        "\n",
        "    for sentence in sentences:\n",
        "        sentence = sentence+ \".\"\n",
        "        tokens = sentence.split()\n",
        "        for i in range(len(tokens)-context_size*2):\n",
        "            a = tokens[i+context_size]\n",
        "            b = tokens[i:i+context_size] + tokens[i+context_size+1: i+2*context_size+1]\n",
        "            if CBOW: data.append((b, a))\n",
        "            else: data.append((a,b))\n",
        "    \n",
        "    return data\n",
        "\n",
        "\n",
        "#generate_training_data(raw_text, 2, CBOW=True)"
      ]
    },
    {
      "cell_type": "code",
      "execution_count": 48,
      "id": "-K5echesLlED",
      "metadata": {
        "id": "-K5echesLlED"
      },
      "outputs": [],
      "source": [
        "def get_training_data_idx(word_to_ix, data):\n",
        "    \"\"\"\n",
        "    This function is to get idx values from the vocabulary for training data.\n",
        "\n",
        "    For eg:\n",
        "    CBOW\n",
        "    Input: [(['We', 'are', 'to', 'study'], 'about'), ...]\n",
        "    Output: [(tensor([ 34,  55,  96, 125]), tensor([6])), ...]\n",
        "\n",
        "    SkipGram\n",
        "    Input: [('about', ['We', 'are', 'to', 'study']), ...]\n",
        "    Output: [(tensor([6]), tensor([ 34,  55,  96, 125])), ...]\n",
        "\n",
        "    word_to_idx is already provided\n",
        "    \"\"\"\n",
        "    output = []\n",
        "    for i in data:\n",
        "        if isinstance(i[0], list):\n",
        "            a = torch.tensor([word_to_ix[w] for w in i[0]], dtype=torch.long)\n",
        "            b = torch.tensor([word_to_ix[i[1]]], dtype=torch.long)\n",
        "        else:\n",
        "            a = torch.tensor([word_to_ix[i[0]]], dtype=torch.long)\n",
        "            b = torch.tensor([word_to_ix[w] for w in i[1]], dtype=torch.long)\n",
        "        output.append((a, b))\n",
        "    return output"
      ]
    },
    {
      "cell_type": "code",
      "execution_count": 49,
      "id": "bcc431e9",
      "metadata": {
        "id": "bcc431e9"
      },
      "outputs": [],
      "source": [
        "def train(model, data, loss_function, optimizer, num_epochs):\n",
        "    # TODO: Complete the training function\n",
        "    losses = []\n",
        "    model.train()\n",
        "    for epoch in range(num_epochs):\n",
        "        total_loss = 0\n",
        "        for context, target in data:\n",
        "            optimizer.zero_grad()\n",
        "            model_result = model(context)\n",
        "            total_loss = loss_function(model_result, target)\n",
        "\n",
        "            total_loss.backward()\n",
        "\n",
        "            optimizer.step()\n",
        "\n",
        "        if epoch % 10 == 0:\n",
        "            print (f'Epoch [{epoch} / {num_epochs}], Loss: {total_loss.item():.4f}')\n",
        "\n",
        "        losses.append(total_loss.item())\n",
        "    return losses"
      ]
    },
    {
      "cell_type": "code",
      "execution_count": 50,
      "id": "lu2BWYG4QMmF",
      "metadata": {
        "id": "lu2BWYG4QMmF"
      },
      "outputs": [],
      "source": [
        "context_size = 2\n",
        "num_epochs = 200\n",
        "\n",
        "vocab = set(raw_text.split())\n",
        "vocab_size = len(vocab)\n",
        "\n",
        "word_to_ix = {word: i for i, word in enumerate(vocab)}\n",
        "ix_to_word = {i: word for i, word in enumerate(vocab)}\n"
      ]
    },
    {
      "cell_type": "code",
      "execution_count": 51,
      "id": "ZCFqH_1Uyxdb",
      "metadata": {
        "colab": {
          "base_uri": "https://localhost:8080/"
        },
        "id": "ZCFqH_1Uyxdb",
        "outputId": "337983cf-24aa-4b44-dfca-f8ed75401e75"
      },
      "outputs": [
        {
          "name": "stdout",
          "output_type": "stream",
          "text": [
            "CBOW\n",
            "[(['The', 'stand', 'was', 'by'], 'up'), (['stand', 'up', 'by', 'far'], 'was')]\n",
            "[(tensor([84, 41, 32, 42]), tensor([102])), (tensor([ 41, 102,  42,  70]), tensor([32]))]\n",
            "SkipGram\n",
            "[('up', ['The', 'stand', 'was', 'by']), ('was', ['stand', 'up', 'by', 'far'])]\n",
            "[(tensor([102]), tensor([84, 41, 32, 42])), (tensor([32]), tensor([ 41, 102,  42,  70]))]\n"
          ]
        }
      ],
      "source": [
        "print('CBOW')\n",
        "cbow_data = generate_training_data(raw_text, context_size, CBOW=True)\n",
        "cbow_data_idx = get_training_data_idx(word_to_ix, cbow_data)\n",
        "print(cbow_data[:2])\n",
        "print(cbow_data_idx[:2])\n",
        "\n",
        "print('SkipGram')\n",
        "skipgram_data = generate_training_data(raw_text, context_size, CBOW=False)\n",
        "skipgram_data_idx = get_training_data_idx(word_to_ix, skipgram_data)\n",
        "print(skipgram_data[:2])\n",
        "print(skipgram_data_idx[:2])"
      ]
    },
    {
      "cell_type": "code",
      "execution_count": 52,
      "id": "4831e246",
      "metadata": {
        "colab": {
          "base_uri": "https://localhost:8080/"
        },
        "id": "4831e246",
        "outputId": "130a868a-c074-4594-f538-b5e0f470ac2e"
      },
      "outputs": [
        {
          "name": "stdout",
          "output_type": "stream",
          "text": [
            "CBOW\n",
            "Epoch [0 / 200], Loss: 5.0308\n",
            "Epoch [10 / 200], Loss: 4.2247\n",
            "Epoch [20 / 200], Loss: 4.1338\n",
            "Epoch [30 / 200], Loss: 4.0360\n",
            "Epoch [40 / 200], Loss: 3.9279\n",
            "Epoch [50 / 200], Loss: 3.8046\n",
            "Epoch [60 / 200], Loss: 3.6589\n",
            "Epoch [70 / 200], Loss: 3.4809\n",
            "Epoch [80 / 200], Loss: 3.2584\n",
            "Epoch [90 / 200], Loss: 2.9778\n",
            "Epoch [100 / 200], Loss: 2.6297\n",
            "Epoch [110 / 200], Loss: 2.2187\n",
            "Epoch [120 / 200], Loss: 1.7725\n",
            "Epoch [130 / 200], Loss: 1.3407\n",
            "Epoch [140 / 200], Loss: 0.9748\n",
            "Epoch [150 / 200], Loss: 0.7000\n",
            "Epoch [160 / 200], Loss: 0.5091\n",
            "Epoch [170 / 200], Loss: 0.3805\n",
            "Epoch [180 / 200], Loss: 0.2934\n",
            "Epoch [190 / 200], Loss: 0.2331\n",
            "SkipGram\n",
            "Epoch [0 / 200], Loss: 6.4757\n",
            "Epoch [10 / 200], Loss: 5.9833\n",
            "Epoch [20 / 200], Loss: 5.9039\n",
            "Epoch [30 / 200], Loss: 5.8428\n",
            "Epoch [40 / 200], Loss: 5.8058\n",
            "Epoch [50 / 200], Loss: 5.7831\n",
            "Epoch [60 / 200], Loss: 5.7669\n",
            "Epoch [70 / 200], Loss: 5.7536\n",
            "Epoch [80 / 200], Loss: 5.7413\n",
            "Epoch [90 / 200], Loss: 5.7292\n",
            "Epoch [100 / 200], Loss: 5.7168\n",
            "Epoch [110 / 200], Loss: 5.7037\n",
            "Epoch [120 / 200], Loss: 5.6897\n",
            "Epoch [130 / 200], Loss: 5.6747\n",
            "Epoch [140 / 200], Loss: 5.6583\n",
            "Epoch [150 / 200], Loss: 5.6405\n",
            "Epoch [160 / 200], Loss: 5.6212\n",
            "Epoch [170 / 200], Loss: 5.6000\n",
            "Epoch [180 / 200], Loss: 5.5769\n",
            "Epoch [190 / 200], Loss: 5.5516\n"
          ]
        }
      ],
      "source": [
        "cbow_model = CBOW(vocab_size, embedding_dim=100)\n",
        "skipgram_model = SkipGram(vocab_size, context_size * 2, embedding_dim=100)\n",
        "\n",
        "cbow_optimizer = optim.SGD(cbow_model.parameters(), lr=0.01)\n",
        "skipgram_optimizer = optim.SGD(skipgram_model.parameters(), lr=0.01)\n",
        "\n",
        "print('CBOW')\n",
        "cbow_loss = train(cbow_model, cbow_data_idx, nn.NLLLoss(), cbow_optimizer, num_epochs)\n",
        "print('SkipGram')\n",
        "skipgram_loss = train(skipgram_model, skipgram_data_idx, nn.NLLLoss(), skipgram_optimizer, num_epochs)"
      ]
    },
    {
      "cell_type": "code",
      "execution_count": 53,
      "id": "b553cbfe",
      "metadata": {
        "colab": {
          "base_uri": "https://localhost:8080/",
          "height": 325
        },
        "id": "b553cbfe",
        "outputId": "913b88c0-ed0a-4fac-8f85-5bac2596c064"
      },
      "outputs": [
        {
          "data": {
            "text/plain": [
              "<Figure size 288x288 with 0 Axes>"
            ]
          },
          "metadata": {},
          "output_type": "display_data"
        },
        {
          "data": {
            "image/png": "[encoded data removed]",
            "text/plain": [
              "<Figure size 432x288 with 2 Axes>"
            ]
          },
          "metadata": {
            "needs_background": "light"
          },
          "output_type": "display_data"
        }
      ],
      "source": [
        "cbow_model.eval()\n",
        "torch.no_grad()\n",
        "\n",
        "plt.figure(figsize = (4, 4))\n",
        "fig, ax1 = plt.subplots()\n",
        "ax2 = ax1.twinx()\n",
        "\n",
        "ax1.plot(cbow_loss, label='CBOW Loss', color = 'r')\n",
        "ax2.plot(skipgram_loss, label='SkipGram Loss', color = 'b')\n",
        "plt.title('CBOW vs SkipGram Training Loss')\n",
        "ax1.legend(loc='upper center', bbox_to_anchor=(0.2, -0.05),\\\n",
        "            shadow=True, fontsize='x-large')\n",
        "ax2.legend(loc='upper center', bbox_to_anchor=(0.7, -0.05),\\\n",
        "            shadow=True, fontsize='x-large')\n",
        "plt.show()"
      ]
    },
    {
      "cell_type": "markdown",
      "id": "15a99e5f",
      "metadata": {
        "id": "15a99e5f"
      },
      "source": [
        "<h4>Part b:</h4>\n"
      ]
    },
    {
      "cell_type": "code",
      "execution_count": 54,
      "id": "a877cadd",
      "metadata": {
        "colab": {
          "base_uri": "https://localhost:8080/"
        },
        "id": "a877cadd",
        "outputId": "c298b206-9a42-498a-89ca-9ebd5dde37fc"
      },
      "outputs": [
        {
          "name": "stdout",
          "output_type": "stream",
          "text": [
            "CBOW With context size 2\n",
            "[(['The', 'stand', 'was', 'by'], 'up'), (['stand', 'up', 'by', 'far'], 'was'), (['up', 'was', 'far', 'the'], 'by'), (['was', 'by', 'the', 'best'], 'far'), (['by', 'far', 'best', 'one.'], 'the'), (['The', 'comedy', 'was', 'horrible.'], 'special'), (['This', 'movie', 'has', 'a'], 'also'), (['movie', 'also', 'a', 'very'], 'has'), (['also', 'has', 'very', 'good'], 'a'), (['has', 'a', 'good', 'ending.'], 'very'), (['The', 'ending', 'sorry', 'as'], 'was'), (['ending', 'was', 'as', 'I'], 'sorry'), (['was', 'sorry', 'I', 'just'], 'as'), (['sorry', 'as', 'just', \"didn't\"], 'I'), (['as', 'I', \"didn't\", 'care'], 'just'), (['I', 'just', 'care', 'for'], \"didn't\"), (['just', \"didn't\", 'for', 'the'], 'care'), ([\"didn't\", 'care', 'the', 'characters.'], 'for'), (['The', 'plot', 'tight', 'and'], 'is'), (['plot', 'is', 'and', 'the'], 'tight'), (['is', 'tight', 'the', 'acting'], 'and'), (['tight', 'and', 'acting', 'is'], 'the'), (['and', 'the', 'is', 'flawless.'], 'acting'), (['The', 'plot', 'predictable', 'and'], 'is'), (['plot', 'is', 'and', 'the'], 'predictable'), (['is', 'predictable', 'the', 'movie'], 'and'), (['predictable', 'and', 'movie', 'is'], 'the'), (['and', 'the', 'is', 'long.'], 'movie'), (['Good', 'historical', 'which', 'is'], 'drama'), (['historical', 'drama', 'is', 'very'], 'which'), (['drama', 'which', 'very', 'educational'], 'is'), (['which', 'is', 'educational', 'and'], 'very'), (['is', 'very', 'and', 'entertaining.'], 'educational'), (['It', 'was', 'over', 'dramatic'], 'entirely'), (['was', 'entirely', 'dramatic', 'and'], 'over'), (['entirely', 'over', 'and', 'boring.'], 'dramatic'), (['The', 'romance', 'the', 'movie'], 'of'), (['romance', 'of', 'movie', 'is'], 'the'), (['of', 'the', 'is', 'good'], 'movie'), (['the', 'movie', 'good', 'and'], 'is'), (['movie', 'is', 'and', 'nicely'], 'good'), (['is', 'good', 'nicely', 'presented.'], 'and'), (['It', 'was', 'most', 'terrible'], 'the'), (['was', 'the', 'terrible', 'romance'], 'most'), (['the', 'most', 'romance', 'movie'], 'terrible'), (['most', 'terrible', 'movie', 'I'], 'romance'), (['terrible', 'romance', 'I', 'had'], 'movie'), (['romance', 'movie', 'had', 'ever'], 'I'), (['movie', 'I', 'ever', 'watched.'], 'had'), (['Movie', 'has', 'unique', 'science'], 'a'), (['has', 'a', 'science', 'fiction'], 'unique'), (['a', 'unique', 'fiction', 'element'], 'science'), (['unique', 'science', 'element', 'which'], 'fiction'), (['science', 'fiction', 'which', 'makes'], 'element'), (['fiction', 'element', 'makes', 'it'], 'which'), (['element', 'which', 'it', 'hillarious.'], 'makes'), (['The', 'old', 'fiction', 'trope'], 'science'), (['old', 'science', 'trope', 'is'], 'fiction'), (['science', 'fiction', 'is', 'overused'], 'trope'), (['fiction', 'trope', 'overused', 'and'], 'is'), (['trope', 'is', 'and', 'stale.'], 'overused'), (['This', 'movie', 'rich', 'with'], 'is'), (['movie', 'is', 'with', 'action'], 'rich'), (['is', 'rich', 'action', 'and'], 'with'), (['rich', 'with', 'and', 'gore.'], 'action'), (['To', 'make', 'interesting,', 'they'], 'it'), (['make', 'it', 'they', 'threw'], 'interesting,'), (['it', 'interesting,', 'threw', 'in'], 'they'), (['interesting,', 'they', 'in', 'some'], 'threw'), (['they', 'threw', 'some', 'gore'], 'in'), (['threw', 'in', 'gore', 'but'], 'some'), (['in', 'some', 'but', 'were'], 'gore'), (['some', 'gore', 'were', 'unsuccessful.'], 'but'), (['This', 'movie', 'an', 'inconsistent'], 'had'), (['movie', 'had', 'inconsistent', 'cinematography.'], 'an'), (['For', 'a', 'this', 'has'], 'comedy'), (['a', 'comedy', 'has', 'a'], 'this'), (['comedy', 'this', 'a', 'decent'], 'has'), (['this', 'has', 'decent', 'and'], 'a'), (['has', 'a', 'and', 'inventive'], 'decent'), (['a', 'decent', 'inventive', 'plot.'], 'and'), (['The', 'plot', 'an', 'absolute'], 'is'), (['plot', 'is', 'absolute', 'mess.'], 'an'), (['The', 'movie', 'lots', 'of'], 'has'), (['movie', 'has', 'of', 'plot'], 'lots'), (['has', 'lots', 'plot', 'twists'], 'of'), (['lots', 'of', 'twists', 'which'], 'plot'), (['of', 'plot', 'which', 'has'], 'twists'), (['plot', 'twists', 'has', 'a'], 'which'), (['twists', 'which', 'a', 'huge'], 'has'), (['which', 'has', 'huge', 'payoff.'], 'a'), (['There', 'are', 'many', 'plot'], 'so'), (['are', 'so', 'plot', 'twists'], 'many'), (['so', 'many', 'twists', 'that'], 'plot'), (['many', 'plot', 'that', 'you'], 'twists'), (['plot', 'twists', 'you', 'can'], 'that'), (['twists', 'that', 'can', 'never'], 'you'), (['that', 'you', 'never', 'be'], 'can'), (['you', 'can', 'be', 'sure'], 'never'), (['can', 'never', 'sure', 'to'], 'be'), (['never', 'be', 'to', 'root'], 'sure'), (['be', 'sure', 'root', 'for.'], 'to'), (['The', 'story', 'ending', 'were'], 'and'), (['story', 'and', 'were', 'so'], 'ending'), (['and', 'ending', 'so', 'brutal'], 'were'), (['ending', 'were', 'brutal', 'that'], 'so'), (['were', 'so', 'that', 'they'], 'brutal'), (['so', 'brutal', 'they', 'made'], 'that'), (['brutal', 'that', 'made', 'up'], 'they'), (['that', 'they', 'up', 'for'], 'made'), (['they', 'made', 'for', 'a'], 'up'), (['made', 'up', 'a', 'lot.'], 'for'), (['There', 'was', 'explanation,', 'the'], 'no'), (['was', 'no', 'the', 'ending'], 'explanation,'), (['no', 'explanation,', 'ending', 'was'], 'the'), (['explanation,', 'the', 'was', 'incomplete.'], 'ending'), (['Great', 'story', 'fantastic', 'music,'], 'line,'), (['story', 'line,', 'music,', 'great'], 'fantastic'), (['line,', 'fantastic', 'great', 'visual'], 'music,'), (['fantastic', 'music,', 'visual', 'effects.'], 'great'), (['Thread', 'bare', 'bad', 'acting,'], 'plot,'), (['bare', 'plot,', 'acting,', 'bad'], 'bad'), (['plot,', 'bad', 'bad', 'visual'], 'acting,'), (['bad', 'acting,', 'visual', 'effects.'], 'bad'), (['A', 'great', 'a', 'great'], 'concept,'), (['great', 'concept,', 'great', 'cast'], 'a'), (['concept,', 'a', 'cast', 'and'], 'great'), (['a', 'great', 'and', 'I'], 'cast'), (['great', 'cast', 'I', 'loved'], 'and'), (['cast', 'and', 'loved', 'it.'], 'I'), (['The', 'concept', 'hardly', 'original.'], 'was')]\n",
            "[(tensor([84, 41, 32, 42]), tensor([102])), (tensor([ 41, 102,  42,  70]), tensor([32])), (tensor([102,  32,  70, 128]), tensor([42])), (tensor([ 32,  42, 128,  82]), tensor([70])), (tensor([ 42,  70,  82, 123]), tensor([128])), (tensor([ 84, 108,  32,  33]), tensor([80])), (tensor([96,  3, 37,  9]), tensor([139])), (tensor([  3, 139,   9,  25]), tensor([37])), (tensor([139,  37,  25,  20]), tensor([9])), (tensor([37,  9, 20, 85]), tensor([25])), (tensor([84, 72,  4, 29]), tensor([32])), (tensor([ 72,  32,  29, 104]), tensor([4])), (tensor([ 32,   4, 104, 136]), tensor([29])), (tensor([  4,  29, 136, 101]), tensor([104])), (tensor([ 29, 104, 101,  74]), tensor([136])), (tensor([104, 136,  74,   5]), tensor([101])), (tensor([136, 101,   5, 128]), tensor([74])), (tensor([101,  74, 128, 131]), tensor([5])), (tensor([84, 12, 53, 57]), tensor([22])), (tensor([ 12,  22,  57, 128]), tensor([53])), (tensor([ 22,  53, 128,  83]), tensor([57])), (tensor([53, 57, 83, 22]), tensor([128])), (tensor([ 57, 128,  22, 132]), tensor([83])), (tensor([84, 12, 94, 57]), tensor([22])), (tensor([ 12,  22,  57, 128]), tensor([94])), (tensor([ 22,  94, 128,   3]), tensor([57])), (tensor([94, 57,  3, 22]), tensor([128])), (tensor([ 57, 128,  22, 115]), tensor([3])), (tensor([133, 116,  50,  22]), tensor([58])), (tensor([116,  58,  22,  25]), tensor([50])), (tensor([ 58,  50,  25, 110]), tensor([22])), (tensor([ 50,  22, 110,  57]), tensor([25])), (tensor([ 22,  25,  57, 103]), tensor([110])), (tensor([125,  32,  44,  54]), tensor([46])), (tensor([32, 46, 54, 57]), tensor([44])), (tensor([46, 44, 57, 63]), tensor([54])), (tensor([ 84,  19, 128,   3]), tensor([88])), (tensor([19, 88,  3, 22]), tensor([128])), (tensor([ 88, 128,  22,  20]), tensor([3])), (tensor([128,   3,  20,  57]), tensor([22])), (tensor([ 3, 22, 57, 76]), tensor([20])), (tensor([22, 20, 76, 69]), tensor([57])), (tensor([125,  32, 129,  36]), tensor([128])), (tensor([ 32, 128,  36,  19]), tensor([129])), (tensor([128, 129,  19,   3]), tensor([36])), (tensor([129,  36,   3, 104]), tensor([19])), (tensor([ 36,  19, 104,  79]), tensor([3])), (tensor([19,  3, 79, 21]), tensor([104])), (tensor([  3, 104,  21, 119]), tensor([79])), (tensor([ 51,  37, 117,  24]), tensor([9])), (tensor([37,  9, 24, 34]), tensor([117])), (tensor([  9, 117,  34,  10]), tensor([24])), (tensor([117,  24,  10,  50]), tensor([34])), (tensor([24, 34, 50, 17]), tensor([10])), (tensor([ 34,  10,  17, 137]), tensor([50])), (tensor([ 10,  50, 137,  40]), tensor([17])), (tensor([ 84,  45,  34, 122]), tensor([24])), (tensor([ 45,  24, 122,  22]), tensor([34])), (tensor([ 24,  34,  22, 113]), tensor([122])), (tensor([ 34, 122, 113,  57]), tensor([22])), (tensor([122,  22,  57,  59]), tensor([113])), (tensor([96,  3,  2,  7]), tensor([22])), (tensor([ 3, 22,  7, 56]), tensor([2])), (tensor([22,  2, 56, 57]), tensor([7])), (tensor([ 2,  7, 57, 67]), tensor([56])), (tensor([39, 27, 98, 90]), tensor([137])), (tensor([ 27, 137,  90, 120]), tensor([98])), (tensor([137,  98, 120,  86]), tensor([90])), (tensor([98, 90, 86,  8]), tensor([120])), (tensor([ 90, 120,   8,  26]), tensor([86])), (tensor([120,  86,  26,  87]), tensor([8])), (tensor([ 86,   8,  87, 138]), tensor([26])), (tensor([  8,  26, 138,  43]), tensor([87])), (tensor([96,  3, 77, 81]), tensor([79])), (tensor([  3,  79,  81, 134]), tensor([77])), (tensor([ 6,  9, 52, 37]), tensor([108])), (tensor([  9, 108,  37,   9]), tensor([52])), (tensor([108,  52,   9,  16]), tensor([37])), (tensor([52, 37, 16, 57]), tensor([9])), (tensor([37,  9, 57, 23]), tensor([16])), (tensor([ 9, 16, 23, 48]), tensor([57])), (tensor([84, 12, 77, 91]), tensor([22])), (tensor([12, 22, 91, 95]), tensor([77])), (tensor([84,  3, 55, 88]), tensor([37])), (tensor([ 3, 37, 88, 12]), tensor([55])), (tensor([ 37,  55,  12, 124]), tensor([88])), (tensor([ 55,  88, 124,  50]), tensor([12])), (tensor([88, 12, 50, 37]), tensor([124])), (tensor([ 12, 124,  37,   9]), tensor([50])), (tensor([124,  50,   9,  99]), tensor([37])), (tensor([50, 37, 99, 35]), tensor([9])), (tensor([114,  49,   1,  12]), tensor([18])), (tensor([ 49,  18,  12, 124]), tensor([1])), (tensor([ 18,   1, 124,  78]), tensor([12])), (tensor([ 1, 12, 78, 15]), tensor([124])), (tensor([ 12, 124,  15, 121]), tensor([78])), (tensor([124,  78, 121, 135]), tensor([15])), (tensor([ 78,  15, 135,  28]), tensor([121])), (tensor([ 15, 121,  28, 107]), tensor([135])), (tensor([121, 135, 107,  68]), tensor([28])), (tensor([135,  28,  68,  38]), tensor([107])), (tensor([ 28, 107,  38, 100]), tensor([68])), (tensor([ 84,  13,  72, 138]), tensor([57])), (tensor([ 13,  57, 138,  18]), tensor([72])), (tensor([ 57,  72,  18, 127]), tensor([138])), (tensor([ 72, 138, 127,  78]), tensor([18])), (tensor([138,  18,  78,  90]), tensor([127])), (tensor([ 18, 127,  90,  62]), tensor([78])), (tensor([127,  78,  62, 102]), tensor([90])), (tensor([ 78,  90, 102,   5]), tensor([62])), (tensor([90, 62,  5,  9]), tensor([102])), (tensor([ 62, 102,   9, 130]), tensor([5])), (tensor([114,  32,  65, 128]), tensor([126])), (tensor([ 32, 126, 128,  72]), tensor([65])), (tensor([126,  65,  72,  32]), tensor([128])), (tensor([ 65, 128,  32,  73]), tensor([72])), (tensor([111,  13,   0,  66]), tensor([11])), (tensor([13, 11, 66, 61]), tensor([0])), (tensor([ 11,   0,  61, 109]), tensor([66])), (tensor([  0,  66, 109,  64]), tensor([61])), (tensor([89, 60, 14, 93]), tensor([47])), (tensor([60, 47, 93, 14]), tensor([14])), (tensor([ 47,  14,  14, 109]), tensor([93])), (tensor([ 14,  93, 109,  64]), tensor([14])), (tensor([97, 61,  9, 61]), tensor([30])), (tensor([61, 30, 61, 75]), tensor([9])), (tensor([30,  9, 75, 57]), tensor([61])), (tensor([  9,  61,  57, 104]), tensor([75])), (tensor([ 61,  75, 104, 106]), tensor([57])), (tensor([ 75,  57, 106,  31]), tensor([104])), (tensor([ 84,  71, 105, 118]), tensor([32]))]\n",
            "CBOW With context size 3\n",
            "[(['The', 'stand', 'up', 'by', 'far', 'the'], 'was'), (['stand', 'up', 'was', 'far', 'the', 'best'], 'by')]\n",
            "[(tensor([ 84,  41, 102,  42,  70, 128]), tensor([32])), (tensor([ 41, 102,  32,  70, 128,  82]), tensor([42]))]\n"
          ]
        }
      ],
      "source": [
        "# TODO: Use context window 2 and 3 to train the best model of your choice and plot their results\n",
        "print('CBOW With context size 2')\n",
        "cbow_data_2 = generate_training_data(raw_text, 2, CBOW=True)\n",
        "cbow_data_idx_2 = get_training_data_idx(word_to_ix, cbow_data_2)\n",
        "print(cbow_data_2)\n",
        "print(cbow_data_idx_2)\n",
        "\n",
        "print('CBOW With context size 3')\n",
        "cbow_data_3 = generate_training_data(raw_text, 3, CBOW=True)\n",
        "cbow_data_idx_3 = get_training_data_idx(word_to_ix, cbow_data_3)\n",
        "print(cbow_data_3[:2])\n",
        "print(cbow_data_idx_3[:2])"
      ]
    },
    {
      "cell_type": "code",
      "execution_count": 55,
      "id": "PXfLIzEzJWtf",
      "metadata": {
        "colab": {
          "base_uri": "https://localhost:8080/"
        },
        "id": "PXfLIzEzJWtf",
        "outputId": "c991e761-c0b9-45d7-c6f6-f681ba4a3a2a"
      },
      "outputs": [
        {
          "name": "stdout",
          "output_type": "stream",
          "text": [
            "CBOW With context size 2\n",
            "Epoch [0 / 200], Loss: 5.0750\n",
            "Epoch [10 / 200], Loss: 4.1655\n",
            "Epoch [20 / 200], Loss: 4.0873\n",
            "Epoch [30 / 200], Loss: 4.0027\n",
            "Epoch [40 / 200], Loss: 3.9094\n",
            "Epoch [50 / 200], Loss: 3.8027\n",
            "Epoch [60 / 200], Loss: 3.6745\n",
            "Epoch [70 / 200], Loss: 3.5137\n",
            "Epoch [80 / 200], Loss: 3.3077\n",
            "Epoch [90 / 200], Loss: 3.0465\n",
            "Epoch [100 / 200], Loss: 2.7276\n",
            "Epoch [110 / 200], Loss: 2.3595\n",
            "Epoch [120 / 200], Loss: 1.9606\n",
            "Epoch [130 / 200], Loss: 1.5582\n",
            "Epoch [140 / 200], Loss: 1.1865\n",
            "Epoch [150 / 200], Loss: 0.8758\n",
            "Epoch [160 / 200], Loss: 0.6392\n",
            "Epoch [170 / 200], Loss: 0.4707\n",
            "Epoch [180 / 200], Loss: 0.3543\n",
            "Epoch [190 / 200], Loss: 0.2742\n",
            "CBOW With context size 3\n",
            "Epoch [0 / 200], Loss: 5.1087\n",
            "Epoch [10 / 200], Loss: 4.1405\n",
            "Epoch [20 / 200], Loss: 4.0390\n",
            "Epoch [30 / 200], Loss: 3.9257\n",
            "Epoch [40 / 200], Loss: 3.7958\n",
            "Epoch [50 / 200], Loss: 3.6414\n",
            "Epoch [60 / 200], Loss: 3.4505\n",
            "Epoch [70 / 200], Loss: 3.2097\n",
            "Epoch [80 / 200], Loss: 2.9100\n",
            "Epoch [90 / 200], Loss: 2.5552\n",
            "Epoch [100 / 200], Loss: 2.1665\n",
            "Epoch [110 / 200], Loss: 1.7775\n",
            "Epoch [120 / 200], Loss: 1.4207\n",
            "Epoch [130 / 200], Loss: 1.1167\n",
            "Epoch [140 / 200], Loss: 0.8713\n",
            "Epoch [150 / 200], Loss: 0.6796\n",
            "Epoch [160 / 200], Loss: 0.5323\n",
            "Epoch [170 / 200], Loss: 0.4199\n",
            "Epoch [180 / 200], Loss: 0.3344\n",
            "Epoch [190 / 200], Loss: 0.2695\n"
          ]
        }
      ],
      "source": [
        "cbow_model_with_context_size_2 = CBOW(vocab_size, embedding_dim=100)\n",
        "cbow_model_with_context_size_3 = CBOW(vocab_size, embedding_dim=100)\n",
        "\n",
        "cbow_optimizer_2 = optim.SGD(cbow_model_with_context_size_2.parameters(), lr=0.01)\n",
        "cbow_optimizer_3 = optim.SGD(cbow_model_with_context_size_3.parameters(), lr=0.01)\n",
        "\n",
        "print('CBOW With context size 2')\n",
        "cbow_loss_2 = train(cbow_model_with_context_size_2, cbow_data_idx, nn.NLLLoss(), cbow_optimizer_2, num_epochs)\n",
        "print('CBOW With context size 3')\n",
        "cbow_loss_3 = train(cbow_model_with_context_size_3, cbow_data_idx, nn.NLLLoss(), cbow_optimizer_3, num_epochs)"
      ]
    },
    {
      "cell_type": "code",
      "execution_count": 56,
      "id": "6sPVmI8-Ja27",
      "metadata": {
        "colab": {
          "base_uri": "https://localhost:8080/",
          "height": 325
        },
        "id": "6sPVmI8-Ja27",
        "outputId": "5fb12e77-32c6-409c-d901-36c9165a1354"
      },
      "outputs": [
        {
          "data": {
            "text/plain": [
              "<Figure size 288x288 with 0 Axes>"
            ]
          },
          "metadata": {},
          "output_type": "display_data"
        },
        {
          "data": {
            "image/png": "[encoded data removed]",
            "text/plain": [
              "<Figure size 432x288 with 2 Axes>"
            ]
          },
          "metadata": {
            "needs_background": "light"
          },
          "output_type": "display_data"
        }
      ],
      "source": [
        "cbow_model.eval()\n",
        "torch.no_grad()\n",
        "\n",
        "plt.figure(figsize = (4, 4))\n",
        "fig, ax1 = plt.subplots()\n",
        "ax2 = ax1.twinx()\n",
        "\n",
        "ax1.plot(cbow_loss_2, label='CBOW Loss: 2', color = 'r')\n",
        "ax2.plot(cbow_loss_3, label='CBOW Loss: 3', color = 'b')\n",
        "plt.title('CBOW 2 vs CBOW 3 Training Loss')\n",
        "ax1.legend(loc='upper center', bbox_to_anchor=(0.2, -0.05),\\\n",
        "            shadow=True, fontsize='x-large')\n",
        "ax2.legend(loc='upper center', bbox_to_anchor=(0.7, -0.05),\\\n",
        "            shadow=True, fontsize='x-large')\n",
        "plt.show()"
      ]
    },
    {
      "cell_type": "markdown",
      "id": "_BjIg_70TcHf",
      "metadata": {
        "id": "_BjIg_70TcHf"
      },
      "source": [
        "<h4>Results</h4>\n",
        "<p>The training accuracy of CBOW with context size 2 is slightly better than context size 3. This can be due to the fact that the words appearing closer to the given words are more significant in predicting the midddle word. The accuracy decrease in context size 3 is due to the increase of noise in the input string passed to the model.</p>"
      ]
    },
    {
      "cell_type": "markdown",
      "id": "AnNvvVCAhzJW",
      "metadata": {
        "id": "AnNvvVCAhzJW"
      },
      "source": [
        "<h2>Task 3: </h2>\n",
        "<h3>Implementing RNN-LSTM classifier (6 points)</h3>\n",
        "<p>Implement RNN-LSTM classifier, plot the training loss and print the test accuracy.</p>"
      ]
    },
    {
      "cell_type": "code",
      "execution_count": null,
      "id": "GFjPgB3jD5bM",
      "metadata": {
        "id": "GFjPgB3jD5bM"
      },
      "outputs": [],
      "source": [
        "# TODO: Split raw data into positive and negative reviews\n",
        "# eg: X = ['...', '...', '...', '...', '...', ...], Y = [0, 1, 1, 0, 1, ...]\n"
      ]
    },
    {
      "cell_type": "code",
      "execution_count": 21,
      "id": "8fgK0eI-Kss3",
      "metadata": {
        "colab": {
          "base_uri": "https://localhost:8080/",
          "height": 125
        },
        "id": "8fgK0eI-Kss3",
        "outputId": "e3d4c239-d0b8-4504-d6e5-a4d53e3602c3"
      },
      "outputs": [
        {
          "name": "stdout",
          "output_type": "stream",
          "text": [
            "[0, 1, 0, 1, 0, 1, 0, 1, 0, 1, 0, 1, 0, 1, 0, 1, 0, 1, 0, 1, 0, 1, 0, 1, 0, 1]\n",
            "['The stand up was by far the best one.', 'The comedy special was horrible.', 'This movie also has a very good ending.', \"The ending was sorry as I just didn't care for the characters.\", 'The plot is tight and the acting is flawless.', 'The plot is predictable and the movie is long.', 'Good historical drama which is very educational and entertaining.', 'It was entirely over dramatic and boring.', 'The romance of the movie is good and nicely presented.', 'It was the most terrible romance movie I had ever watched.', 'Movie has a unique science fiction element which makes it hillarious.', 'The old science fiction trope is overused and stale.', 'This movie is rich with action and gore.', 'To make it interesting, they threw in some gore but were unsuccessful.', 'The cinematography is outstanding.', 'This movie had an inconsistent cinematography.', 'For a comedy this has a decent and inventive plot.', 'The plot is an absolute mess.', 'The movie has lots of plot twists which has a huge payoff.', 'There are so many plot twists that you can never be sure to root for.', 'The story and ending were so brutal that they made up for a lot.', 'There was no explanation, the ending was incomplete.', 'Great story line, fantastic music, great visual effects.', 'Thread bare plot, bad acting, bad visual effects.', 'A great concept, a great cast and I loved it.', 'The concept was hardly original.']\n"
          ]
        },
        {
          "name": "stderr",
          "output_type": "stream",
          "text": [
            "[nltk_data] Downloading package punkt to /root/nltk_data...\n",
            "[nltk_data]   Package punkt is already up-to-date!\n"
          ]
        },
        {
          "data": {
            "application/vnd.google.colaboratory.intrinsic+json": {
              "type": "string"
            },
            "text/plain": [
              "'There are so many plot twists that you can never be sure to root for.'"
            ]
          },
          "execution_count": 21,
          "metadata": {},
          "output_type": "execute_result"
        }
      ],
      "source": [
        "import nltk\n",
        "nltk.download('punkt')\n",
        "from nltk import tokenize\n",
        "\n",
        "\n",
        "X, y = [], []    \n",
        "X = tokenize.sent_tokenize(raw_text)\n",
        "\n",
        "# where 1 is positive and 0 is negative review\n",
        "y = [0 if (i+1)%2 else 1 for i in range(len(X))]\n",
        "print(y)\n",
        "print(X)\n",
        "\n",
        "max_str = max(X,key=lambda x: len(x.split())) # getting max len sentence for padding\n",
        "max_str"
      ]
    },
    {
      "cell_type": "code",
      "execution_count": 5,
      "id": "O44RhAXbZbtV",
      "metadata": {
        "colab": {
          "base_uri": "https://localhost:8080/"
        },
        "id": "O44RhAXbZbtV",
        "outputId": "6b507042-a45c-4715-883d-6e1a3637364e"
      },
      "outputs": [
        {
          "name": "stdout",
          "output_type": "stream",
          "text": [
            "20\n",
            "6\n",
            "20 20\n",
            "['The story and ending were so brutal that they made up for a lot.', 'There was no explanation, the ending was incomplete.', 'Great story line, fantastic music, great visual effects.', 'Thread bare plot, bad acting, bad visual effects.', 'A great concept, a great cast and I loved it.', 'The concept was hardly original.'] [0, 1, 0, 1, 0, 1]\n"
          ]
        }
      ],
      "source": [
        "train_split = 0.8\n",
        "train_set, test_set = [], []\n",
        "# TODO: Split data into test and training set\n",
        "train_samples = int(len(X)* train_split)\n",
        "test_samples = int(len(X)-train_samples)\n",
        "print(train_samples)\n",
        "print(test_samples)\n",
        "\n",
        "X_train = X[:train_samples] #features\n",
        "X_test = X[train_samples:]\n",
        "\n",
        "y_train = y[:train_samples] #labels\n",
        "y_test = y[train_samples:]\n",
        "\n",
        "print(len(X_train), len(y_train))\n",
        "print(X_test, y_test)"
      ]
    },
    {
      "cell_type": "code",
      "execution_count": 28,
      "id": "85HfGc5Kim30",
      "metadata": {
        "colab": {
          "base_uri": "https://localhost:8080/"
        },
        "id": "85HfGc5Kim30",
        "outputId": "959632cb-62c5-471d-b1b5-5205b00609fe"
      },
      "outputs": [
        {
          "data": {
            "text/plain": [
              "CBOW(\n",
              "  (embeddings): Embedding(140, 100)\n",
              "  (linear1): Linear(in_features=100, out_features=128, bias=True)\n",
              "  (linear2): Linear(in_features=128, out_features=140, bias=True)\n",
              "  (sigmoid): Sigmoid()\n",
              "  (log_softmax): LogSoftmax(dim=1)\n",
              ")"
            ]
          },
          "execution_count": 28,
          "metadata": {},
          "output_type": "execute_result"
        }
      ],
      "source": [
        "data_idx = []\n",
        "\n",
        "# TODO: Convert the textual data to tensors to train the model\n",
        "\n",
        "\n",
        "\n",
        "def train(model, data, loss_function, optimizer, num_epochs):\n",
        "    # TODO: Complete the training function\n",
        "    losses = []\n",
        "    model.train()\n",
        "    for epoch in range(num_epochs):\n",
        "        total_loss = 0\n",
        "        for context, target in data:\n",
        "            optimizer.zero_grad()\n",
        "            context = cbow_model(context)\n",
        "            model_result = model(context)\n",
        "            total_loss = loss_function(model_result, target)\n",
        "\n",
        "            total_loss.backward()\n",
        "\n",
        "            optimizer.step()\n",
        "\n",
        "        if epoch % 10 == 0:\n",
        "            print (f'Epoch [{epoch} / {num_epochs}], Loss: {total_loss.item():.4f}')\n",
        "\n",
        "        losses.append(total_loss.item())\n",
        "    return losses\n",
        "\n",
        "\n",
        "cbow_model.eval()\n"
      ]
    },
    {
      "cell_type": "code",
      "execution_count": 26,
      "id": "HbHITguaggf2",
      "metadata": {
        "colab": {
          "base_uri": "https://localhost:8080/"
        },
        "id": "HbHITguaggf2",
        "outputId": "d6094639-be1c-4fca-f7f4-78b237fc1900"
      },
      "outputs": [
        {
          "data": {
            "text/plain": [
              "[]"
            ]
          },
          "execution_count": 26,
          "metadata": {},
          "output_type": "execute_result"
        }
      ],
      "source": [
        "#Apply padding\n",
        "max_len = len(max_str.split())\n",
        "\n",
        "for sent in data_idx:\n",
        "   if len(sent.split()) < max_len:\n",
        "     n_pads = max_len - len(sent.split()) \n",
        "     i += ([torch.zeros(1)]* n_pads)\n",
        "data_idx\n"
      ]
    },
    {
      "cell_type": "code",
      "execution_count": null,
      "id": "zuFwnDpMZdq3",
      "metadata": {
        "id": "zuFwnDpMZdq3",
        "outputId": "e0215824-0048-4f93-8f7b-ef3147c99caf"
      },
      "outputs": [
        {
          "ename": "NameError",
          "evalue": "name 'nn' is not defined",
          "output_type": "error",
          "traceback": [
            "\u001b[1;31m---------------------------------------------------------------------------\u001b[0m",
            "\u001b[1;31mNameError\u001b[0m                                 Traceback (most recent call last)",
            "\u001b[1;32m<ipython-input-5-c4370b8501f8>\u001b[0m in \u001b[0;36m<module>\u001b[1;34m\u001b[0m\n\u001b[1;32m----> 1\u001b[1;33m \u001b[1;32mclass\u001b[0m \u001b[0mSentimentClassifier\u001b[0m\u001b[1;33m(\u001b[0m\u001b[0mnn\u001b[0m\u001b[1;33m.\u001b[0m\u001b[0mModuleList\u001b[0m\u001b[1;33m)\u001b[0m\u001b[1;33m:\u001b[0m\u001b[1;33m\u001b[0m\u001b[1;33m\u001b[0m\u001b[0m\n\u001b[0m\u001b[0;32m      2\u001b[0m \u001b[1;33m\u001b[0m\u001b[0m\n\u001b[0;32m      3\u001b[0m     \u001b[1;32mdef\u001b[0m \u001b[0m__init__\u001b[0m\u001b[1;33m(\u001b[0m\u001b[0mself\u001b[0m\u001b[1;33m,\u001b[0m \u001b[0minput_size\u001b[0m\u001b[1;33m,\u001b[0m \u001b[0mhidden_size\u001b[0m\u001b[1;33m,\u001b[0m \u001b[0mLSTM_layers_size\u001b[0m\u001b[1;33m=\u001b[0m\u001b[1;36m2\u001b[0m\u001b[1;33m)\u001b[0m\u001b[1;33m:\u001b[0m\u001b[1;33m\u001b[0m\u001b[1;33m\u001b[0m\u001b[0m\n\u001b[0;32m      4\u001b[0m         \u001b[0msuper\u001b[0m\u001b[1;33m(\u001b[0m\u001b[0mSentimentClassifier\u001b[0m\u001b[1;33m,\u001b[0m \u001b[0mself\u001b[0m\u001b[1;33m)\u001b[0m\u001b[1;33m.\u001b[0m\u001b[0m__init__\u001b[0m\u001b[1;33m(\u001b[0m\u001b[1;33m)\u001b[0m\u001b[1;33m\u001b[0m\u001b[1;33m\u001b[0m\u001b[0m\n\u001b[0;32m      5\u001b[0m \u001b[1;33m\u001b[0m\u001b[0m\n",
            "\u001b[1;31mNameError\u001b[0m: name 'nn' is not defined"
          ]
        }
      ],
      "source": [
        "class SentimentClassifier(nn.ModuleList):\n",
        "\n",
        "    def __init__(self, input_size, embedding_dim, hidden_dim=256, LSTM_layers_size=2):\n",
        "        \n",
        "        super(SentimentClassifier, self).__init__()\n",
        "\n",
        "        self.embedding = nn.Embedding(input_size, embedding_dim)\n",
        "        \n",
        "        self.lstm = nn.LSTM(input_size=15*embedding_dim, hidden_size=hidden_dim, num_layers=LSTM_layers_size, batch_first=True)\n",
        "        \n",
        "        self.fc = nn.Linear(hidden_dim, 1)\n",
        "        \n",
        "        self.sig = nn.Sigmoid()\n",
        "        \n",
        "        \n",
        "    # TODO: Complete the forward function\n",
        "    def forward(self, x):\n",
        "    \n",
        "        output = sum(self.embeddings(x)).view(1, -1)\n",
        "        output = self.sig(output)\n",
        "        output = self.lstm(output)\n",
        "        output = self.sig(output)\n",
        "        output = self.fc(output)\n",
        "        \n",
        "        return output\n"
      ]
    },
    {
      "cell_type": "code",
      "execution_count": null,
      "id": "5d545eeb",
      "metadata": {
        "id": "5d545eeb"
      },
      "outputs": [],
      "source": [
        "num_epochs = 20\n",
        "embedding_dim = 20\n",
        "clf = SentimentClassifier(vocab_size, embedding_dim)\n",
        "optimizer = optim.Adam(clf.parameters(), lr=0.01)\n",
        "loss_function = nn.BCELoss()\n",
        "losses = []"
      ]
    },
    {
      "cell_type": "code",
      "execution_count": null,
      "id": "6ce258fa",
      "metadata": {
        "id": "6ce258fa"
      },
      "outputs": [],
      "source": [
        "# TODO: Train classifier"
      ]
    },
    {
      "cell_type": "code",
      "execution_count": null,
      "id": "e149da24",
      "metadata": {
        "id": "e149da24"
      },
      "outputs": [],
      "source": [
        "# TODO: Plot training performance (loss, accuracy)"
      ]
    },
    {
      "cell_type": "code",
      "execution_count": null,
      "id": "4h_Yq1dCjsqg",
      "metadata": {
        "id": "4h_Yq1dCjsqg"
      },
      "outputs": [],
      "source": [
        "# TODO: Get test accuracy"
      ]
    }
  ],
  "metadata": {
    "colab": {
      "provenance": [],
      "toc_visible": true
    },
    "kernelspec": {
      "display_name": "Python 3",
      "language": "python",
      "name": "python3"
    },
    "language_info": {
      "codemirror_mode": {
        "name": "ipython",
        "version": 3
      },
      "file_extension": ".py",
      "mimetype": "text/x-python",
      "name": "python",
      "nbconvert_exporter": "python",
      "pygments_lexer": "ipython3",
      "version": "3.8.10"
    }
  },
  "nbformat": 4,
  "nbformat_minor": 5
}
