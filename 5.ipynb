{
  "cells": [
    {
      "cell_type": "markdown",
      "id": "c33d6a22-ecfa-44db-b072-0ead37fd6780",
      "metadata": {
        "id": "c33d6a22-ecfa-44db-b072-0ead37fd6780"
      },
      "source": [
        "# Parallel Text Style Transfer\n",
        "In this tutorial we are going to implement an encoder-decoder model based on recurrent neural networks to perform text style transfer. You will implement it step-by-step.\n",
        "## Prerequisites\n",
        "We first need to select a device where we run our model and seed the libraries for reproducibility."
      ]
    },
    {
      "cell_type": "code",
      "execution_count": 36,
      "id": "8733e80d-d8c2-4f8f-acaf-e908b940747c",
      "metadata": {
        "colab": {
          "base_uri": "https://localhost:8080/"
        },
        "id": "8733e80d-d8c2-4f8f-acaf-e908b940747c",
        "outputId": "f0415359-42e1-4490-e7a3-ebf360954f72"
      },
      "outputs": [
        {
          "name": "stdout",
          "output_type": "stream",
          "text": [
            "cuda\n"
          ]
        }
      ],
      "source": [
        "import numpy as np\n",
        "import torch\n",
        "\n",
        "# we will use CUDA if it is available\n",
        "DEVICE = torch.device('cuda' if torch.cuda.is_available() else 'cpu')\n",
        "\n",
        "print(DEVICE)\n",
        "\n",
        "seed = 42\n",
        "np.random.seed(seed)\n",
        "torch.manual_seed(seed)\n",
        "torch.cuda.manual_seed(seed)"
      ]
    },
    {
      "cell_type": "markdown",
      "id": "1428ef44-ddc8-4c46-9c07-d0c5bc138ff3",
      "metadata": {
        "id": "1428ef44-ddc8-4c46-9c07-d0c5bc138ff3"
      },
      "source": [
        "## Data loading\n",
        "In the first step we are going to download and prepare the parallel dataset for text style. We will use the Shakespeare dataset with modern and \"Shakespearean\" sentences. Therefore, download it from https://github.com/harsh19/Shakespearizing-Modern-English/tree/master/data into ./data.\n",
        "\n",
        "Afterwards, we load the dataset, clean it and remove long source sentences. We choose modern sentences as our source style and the original \"Shakespearean\" sentences as the target style."
      ]
    },
    {
      "cell_type": "code",
      "execution_count": 37,
      "id": "eHRkXoZ3F0o7",
      "metadata": {
        "colab": {
          "base_uri": "https://localhost:8080/"
        },
        "id": "eHRkXoZ3F0o7",
        "outputId": "30830814-5cb3-441f-ac25-fc7b12ee05fa"
      },
      "outputs": [
        {
          "name": "stdout",
          "output_type": "stream",
          "text": [
            "fatal: destination path 'Shakespearizing-Modern-English' already exists and is not an empty directory.\n"
          ]
        }
      ],
      "source": [
        "!git clone  https://github.com/harsh19/Shakespearizing-Modern-English.git\n"
      ]
    },
    {
      "cell_type": "code",
      "execution_count": 38,
      "id": "6863d1f7-5702-454b-8a14-aa3f53cbf600",
      "metadata": {
        "id": "6863d1f7-5702-454b-8a14-aa3f53cbf600"
      },
      "outputs": [],
      "source": [
        "def load_sent(path):\n",
        "    sents = []\n",
        "    with open(path) as f:\n",
        "        for line in f:\n",
        "            sents.append(line.split())\n",
        "    return sents\n",
        "\n",
        "\n",
        "def clean_lines(lines):\n",
        "    cleaned = []\n",
        "    for line in lines:\n",
        "        # convert to lower case\n",
        "        line = [word.lower() for word in line]\n",
        "        cleaned.append(line)\n",
        "    return cleaned\n",
        "\n",
        "\n",
        "def filter_lines(lines, max_len):\n",
        "    filtered_lines = []\n",
        "    for line in lines:\n",
        "        if len(line[0]) <= max_len:\n",
        "            filtered_lines.append(line)\n",
        "    return filtered_lines\n",
        "\n",
        "MAX_LEN = 20\n",
        "\n",
        "# download data from https://github.com/harsh19/Shakespearizing-Modern-English/tree/master/data into ./data\n",
        "train_modern_sents = clean_lines(load_sent('data/train.modern.nltktok'))\n",
        "train_original_sents = clean_lines(load_sent('data/train.original.nltktok'))\n",
        "train_sents = filter_lines(zip(train_modern_sents, train_original_sents), MAX_LEN)\n",
        "valid_modern_sents = clean_lines(load_sent('data/valid.modern.nltktok'))\n",
        "valid_original_sents = clean_lines(load_sent('data/valid.original.nltktok'))\n",
        "valid_sents = filter_lines(zip(valid_modern_sents, valid_original_sents), MAX_LEN)\n",
        "test_modern_sents = clean_lines(load_sent('data/test.modern.nltktok'))\n",
        "test_original_sents = clean_lines(load_sent('data/test.original.nltktok'))\n",
        "test_sents = filter_lines(zip(test_modern_sents, test_original_sents), MAX_LEN)"
      ]
    },
    {
      "cell_type": "markdown",
      "id": "be43d463-c171-47a7-9695-5688d7f12b4b",
      "metadata": {
        "id": "be43d463-c171-47a7-9695-5688d7f12b4b"
      },
      "source": [
        "## Vocabulary\n",
        "In this step, we are building our vocabulary."
      ]
    },
    {
      "cell_type": "code",
      "execution_count": 39,
      "id": "e35c1fc5-1eb3-44e4-9528-ece39921e28b",
      "metadata": {
        "id": "e35c1fc5-1eb3-44e4-9528-ece39921e28b"
      },
      "outputs": [],
      "source": [
        "class Vocabulary:\n",
        "    def __init__(self, freq_threshold):\n",
        "        self.itos = {0: '<PAD>', 1: '<SOS>', 2: '<EOS>', 3: '<UNK>'}\n",
        "        self.stoi = {k: j for j, k in self.itos.items()}\n",
        "\n",
        "        self.freq_threshold = freq_threshold\n",
        "\n",
        "    def __len__(self):\n",
        "        return len(self.itos)\n",
        "\n",
        "    def build_vocabulary(self, sentence_list):\n",
        "        frequencies = {}  # init the freq dict\n",
        "        idx = 4  # index from which we want our dict to start. We already used 4 indexes for pad, start, end, unk\n",
        "\n",
        "        for sentence in sentence_list:\n",
        "            for word in sentence:\n",
        "                if word not in frequencies.keys():\n",
        "                    frequencies[word] = 1\n",
        "                else:\n",
        "                    frequencies[word] += 1\n",
        "\n",
        "        # limit vocab by removing low freq words\n",
        "        frequencies = {k: v for k, v in frequencies.items() if v > self.freq_threshold}\n",
        "\n",
        "        # create vocab\n",
        "        for word in frequencies.keys():\n",
        "            self.stoi[word] = idx\n",
        "            self.itos[idx] = word\n",
        "            idx += 1\n",
        "\n",
        "    def numericalize(self, text, remove_unk=False):\n",
        "        numericalized_text = []\n",
        "        for token in text:\n",
        "            if token in self.stoi.keys():\n",
        "                numericalized_text.append(self.stoi[token])\n",
        "            elif not remove_unk:  # out-of-vocab words are represented by UNK token index\n",
        "                numericalized_text.append(self.stoi['<UNK>'])\n",
        "        return numericalized_text\n",
        "\n",
        "\n",
        "FREQ_THRESHOLD = 5\n",
        "modern_vocab = Vocabulary(FREQ_THRESHOLD)\n",
        "modern_vocab.build_vocabulary(train_modern_sents)\n",
        "original_vocab = Vocabulary(FREQ_THRESHOLD)\n",
        "original_vocab.build_vocabulary(train_original_sents)"
      ]
    },
    {
      "cell_type": "markdown",
      "id": "dbdb7bf4-d507-461e-ad59-1c995b176bbd",
      "metadata": {
        "id": "dbdb7bf4-d507-461e-ad59-1c995b176bbd"
      },
      "source": [
        "## Numericalize"
      ]
    },
    {
      "cell_type": "code",
      "execution_count": 40,
      "id": "3505a3e5-b47e-446d-8f89-e8935b70f060",
      "metadata": {
        "id": "3505a3e5-b47e-446d-8f89-e8935b70f060"
      },
      "outputs": [],
      "source": [
        "def numericalize(sentences, remove_unk=False):\n",
        "    numericalized_sentences = []\n",
        "    for sent in sentences:\n",
        "        numericalized_sentences.append((modern_vocab.numericalize(sent[0],remove_unk), original_vocab.numericalize(sent[1],remove_unk)))\n",
        "    return numericalized_sentences\n",
        "\n",
        "\n",
        "PAD_IDX = modern_vocab.stoi['<PAD>']\n",
        "numericalized_train = numericalize(train_sents)\n",
        "numericalized_valid = numericalize(valid_sents)\n",
        "numericalized_test = numericalize(test_sents)"
      ]
    },
    {
      "cell_type": "markdown",
      "id": "29cffdae-c761-43ed-81fb-a9be06d31f32",
      "metadata": {
        "id": "29cffdae-c761-43ed-81fb-a9be06d31f32",
        "tags": []
      },
      "source": [
        "## Dataset\n",
        "In this part, you are asked to write a Dataset class that holds the parallel dataset, the source and the target vocabulary. It should return the numericalized version of each sentence including start and end of sequence tokens. Think about whether you need these for source as well as target sentences."
      ]
    },
    {
      "cell_type": "code",
      "execution_count": 41,
      "id": "239e3dd9-2168-4396-812c-3d332363e75c",
      "metadata": {
        "id": "239e3dd9-2168-4396-812c-3d332363e75c"
      },
      "outputs": [],
      "source": [
        "from torch.utils.data import Dataset\n",
        "\n",
        "class StyleTransferDataset(Dataset):\n",
        "    def __init__(self, data, source_vocab, target_vocab):\n",
        "        #implement\n",
        "        self.data = data\n",
        "        self.source_vocab = source_vocab\n",
        "        self.target_vocab = target_vocab\n",
        "        for sentences in self.data:\n",
        "            sentences[0].insert(0,modern_vocab.stoi['<SOS>'])\n",
        "            sentences[0].append(modern_vocab.stoi['<EOS>'])\n",
        "            sentences[1].insert(0,modern_vocab.stoi['<SOS>'])\n",
        "            sentences[1].append(modern_vocab.stoi['<EOS>'])\n",
        "\n",
        "    def __len__(self):\n",
        "        #implement\n",
        "        return len(self.data)\n",
        "\n",
        "    def __getitem__(self, index):\n",
        "        #implement\n",
        "        return self.data[index][0] , self.data[index][1]\n",
        "    \n",
        "\n",
        "\n",
        "train_dataset = StyleTransferDataset(numericalized_train, modern_vocab, original_vocab)\n",
        "valid_dataset = StyleTransferDataset(numericalized_valid, modern_vocab, original_vocab)\n",
        "test_dataset = StyleTransferDataset(numericalized_test, modern_vocab, original_vocab)"
      ]
    },
    {
      "cell_type": "markdown",
      "id": "c4df17e9-a559-4617-adff-a668eae641f1",
      "metadata": {
        "id": "c4df17e9-a559-4617-adff-a668eae641f1"
      },
      "source": [
        "## DataLoader\n",
        "Now, use a DataLoader to load the data in batches. The collate function should pad the sequences with the batch dimension as the first dimension."
      ]
    },
    {
      "cell_type": "code",
      "execution_count": 42,
      "id": "48e0f00f-e0c3-40d2-b060-a22159c6f469",
      "metadata": {
        "id": "48e0f00f-e0c3-40d2-b060-a22159c6f469"
      },
      "outputs": [],
      "source": [
        "from torch.utils.data import DataLoader\n",
        "from torch.nn.utils.rnn import pad_sequence\n",
        "train_batch_size = 64\n",
        "valid_batch_size = 1\n",
        "\n",
        "\n",
        "class MyCollate:\n",
        "    def __init__(self, pad_idx):\n",
        "        # implement\n",
        "        self.pad_idx = pad_idx\n",
        "\n",
        "    def __call__(self, batch):\n",
        "        # implement\n",
        "        data_batch, label_batch = [torch.Tensor(data).type(torch.long) for data , label in batch],[torch.Tensor(label).type(torch.long) for data , label in batch]\n",
        "        x_lens = [len(x) for x in data_batch]\n",
        "        y_lens = [len(y) for y in label_batch]\n",
        "        data_batch = pad_sequence(data_batch, batch_first=True, padding_value=self.pad_idx)\n",
        "        label_batch = pad_sequence(label_batch, batch_first=True,\n",
        "                             padding_value=self.pad_idx)\n",
        "        data_batch = data_batch,x_lens\n",
        "        label_batch = label_batch,y_lens\n",
        "        return [data_batch, label_batch]\n",
        "\n",
        "\n",
        "train_loader = DataLoader(train_dataset, batch_size=train_batch_size, shuffle=True,\n",
        "                          collate_fn=MyCollate(pad_idx=PAD_IDX))\n",
        "valid_loader = DataLoader(valid_dataset, batch_size=valid_batch_size, shuffle=False,\n",
        "                          collate_fn=MyCollate(pad_idx=PAD_IDX))\n",
        "test_loader = DataLoader(test_dataset, batch_size=valid_batch_size, shuffle=False,\n",
        "                         collate_fn=MyCollate(pad_idx=PAD_IDX))\n"
      ]
    },
    {
      "cell_type": "markdown",
      "id": "7ab4644d-60f1-49ed-a44b-7c3d6b4abffc",
      "metadata": {
        "id": "7ab4644d-60f1-49ed-a44b-7c3d6b4abffc"
      },
      "source": [
        "# Model\n",
        "## Encoder-Decoder\n",
        "The encoder-decoder class has references to the encoder, the decoder, the embeddings and the generator."
      ]
    },
    {
      "cell_type": "code",
      "execution_count": 43,
      "id": "dad2f81d-ec4c-4076-b0dc-b0af1b599893",
      "metadata": {
        "id": "dad2f81d-ec4c-4076-b0dc-b0af1b599893"
      },
      "outputs": [],
      "source": [
        "import torch.nn as nn\n",
        "\n",
        "class EncoderDecoder(nn.Module):\n",
        "    \"\"\"\n",
        "    A standard Encoder-Decoder architecture. Base for this and many \n",
        "    other models.\n",
        "    \"\"\"\n",
        "\n",
        "    def __init__(self, encoder, decoder, src_embed, trg_embed, generator):\n",
        "        super(EncoderDecoder, self).__init__()\n",
        "        self.encoder = encoder\n",
        "        self.decoder = decoder\n",
        "        self.src_embed = src_embed\n",
        "        self.trg_embed = trg_embed\n",
        "        self.generator = generator\n",
        "\n",
        "    def forward(self, src, trg, src_mask, trg_mask, src_lengths, trg_lengths):\n",
        "        \"\"\"Take in and process masked src and target sequences.\"\"\"\n",
        "        encoder_hidden, encoder_final = self.encode(src, src_mask, src_lengths)\n",
        "        return self.decode(encoder_hidden, encoder_final, src_mask, trg, trg_mask)\n",
        "\n",
        "    def encode(self, src, src_mask, src_lengths):\n",
        "        return self.encoder(self.src_embed(src), src_mask, src_lengths)\n",
        "\n",
        "    def decode(self, encoder_hidden, encoder_final, src_mask, trg, trg_mask,\n",
        "               decoder_hidden=None):\n",
        "        return self.decoder(self.trg_embed(trg), encoder_hidden, encoder_final,\n",
        "                            src_mask, trg_mask, hidden=decoder_hidden)"
      ]
    },
    {
      "cell_type": "markdown",
      "id": "ffde54ce-c213-4978-83c8-bc387748c7e2",
      "metadata": {
        "id": "ffde54ce-c213-4978-83c8-bc387748c7e2"
      },
      "source": [
        "## Generator\n",
        "The generator is needed to project from the hidden representation to our target vocab."
      ]
    },
    {
      "cell_type": "code",
      "execution_count": 44,
      "id": "fb94b675-0b48-42fb-a196-63a966f0ff5b",
      "metadata": {
        "id": "fb94b675-0b48-42fb-a196-63a966f0ff5b"
      },
      "outputs": [],
      "source": [
        "import torch.nn.functional as F\n",
        "\n",
        "class Generator(nn.Module):\n",
        "    \"\"\"Define standard linear + softmax generation step.\"\"\"\n",
        "\n",
        "    def __init__(self, hidden_size, vocab_size):\n",
        "        super(Generator, self).__init__()\n",
        "        self.proj = nn.Linear(hidden_size, vocab_size, bias=False)\n",
        "\n",
        "    def forward(self, x):\n",
        "        return F.log_softmax(self.proj(x), dim=-1)"
      ]
    },
    {
      "cell_type": "markdown",
      "id": "89bd9bd1-3134-4353-b1b5-b83c862a6219",
      "metadata": {
        "id": "89bd9bd1-3134-4353-b1b5-b83c862a6219"
      },
      "source": [
        "## Encoder\n",
        "The encoder encodes a given input sequence into list of hidden states of the same length. Here, we use Gated Recurrent Units (GRUs). They are very similar to Long Short-Term Memory (LSTM) with a forget gate, have fewer parameters and lack an output gate."
      ]
    },
    {
      "cell_type": "code",
      "execution_count": 45,
      "id": "415991bf-85a5-47ad-9631-590151af2b55",
      "metadata": {
        "id": "415991bf-85a5-47ad-9631-590151af2b55"
      },
      "outputs": [],
      "source": [
        "from torch.nn.utils.rnn import pack_padded_sequence, pad_packed_sequence\n",
        "\n",
        "class Encoder(nn.Module):\n",
        "    \"\"\"Encodes a sequence of word embeddings\"\"\"\n",
        "\n",
        "    def __init__(self, input_size, hidden_size, num_layers=1, dropout=0.):\n",
        "        super(Encoder, self).__init__()\n",
        "        self.num_layers = num_layers\n",
        "        self.rnn = nn.GRU(input_size, hidden_size, num_layers,\n",
        "                          batch_first=True, bidirectional=True, dropout=dropout)\n",
        "\n",
        "    def forward(self, x, mask, lengths):\n",
        "        \"\"\"\n",
        "        Applies a bidirectional GRU to sequence of embeddings x.\n",
        "        The input mini-batch x needs to be sorted by length.\n",
        "        x should have dimensions [batch, time, dim].\n",
        "        \"\"\"\n",
        "        packed = pack_padded_sequence(x, lengths, batch_first=True, enforce_sorted=False)\n",
        "        output, final = self.rnn(packed)\n",
        "        output, _ = pad_packed_sequence(output, batch_first=True)\n",
        "\n",
        "        # we need to manually concatenate the final states for both directions\n",
        "        fwd_final = final[0:final.size(0):2]\n",
        "        bwd_final = final[1:final.size(0):2]\n",
        "        final = torch.cat([fwd_final, bwd_final], dim=2)  # [num_layers, batch, 2*dim]\n",
        "\n",
        "        return output, final"
      ]
    },
    {
      "cell_type": "markdown",
      "id": "41922e1d-141c-49d1-a363-1882fc815e8e",
      "metadata": {
        "id": "41922e1d-141c-49d1-a363-1882fc815e8e",
        "tags": []
      },
      "source": [
        "## Decoder\n",
        "The decoder is conditioned on the output from the encoder. Its initial hidden state is initialized from the encoder's final hidden vector.\n",
        "\n",
        "For training, we will use teacher forcing. The decoder gets the \"true\" target words as input. You can read this post for details: https://towardsdatascience.com/what-is-teacher-forcing-3da6217fed1c\n",
        "\n",
        "In inference mode, the decoder will see its own output as input."
      ]
    },
    {
      "cell_type": "code",
      "execution_count": 46,
      "id": "8ce76634-c3b2-4a52-bce5-822a5c8940f4",
      "metadata": {
        "id": "8ce76634-c3b2-4a52-bce5-822a5c8940f4"
      },
      "outputs": [],
      "source": [
        "class Decoder(nn.Module):\n",
        "    \"\"\"A conditional RNN decoder with attention.\"\"\"\n",
        "\n",
        "    def __init__(self, emb_size, hidden_size, attention, num_layers=1, dropout=0.5,\n",
        "                 bridge=True):\n",
        "        super(Decoder, self).__init__()\n",
        "\n",
        "        self.hidden_size = hidden_size\n",
        "        self.num_layers = num_layers\n",
        "        self.attention = attention\n",
        "        self.dropout = dropout\n",
        "        \n",
        "        self.rnn = nn.GRU(emb_size + 2 * hidden_size, hidden_size, num_layers,\n",
        "                          batch_first=True, dropout=dropout)\n",
        "\n",
        "        # to initialize from the final encoder state\n",
        "        self.bridge = nn.Linear(2 * hidden_size, hidden_size, bias=True) if bridge else None\n",
        "\n",
        "        self.dropout_layer = nn.Dropout(p=dropout)\n",
        "        self.pre_output_layer = nn.Linear(hidden_size + 2 * hidden_size + emb_size,\n",
        "                                          hidden_size, bias=False)\n",
        "\n",
        "    def forward_step(self, prev_embed, encoder_hidden, src_mask, proj_key, hidden):\n",
        "        \"\"\"Perform a single decoder step (1 word)\"\"\"\n",
        "\n",
        "        # compute context vector using attention mechanism\n",
        "        query = hidden[-1].unsqueeze(1)  # [#layers, B, D] -> [B, 1, D]\n",
        "        context, attn_probs = self.attention(\n",
        "            query=query, proj_key=proj_key,\n",
        "            value=encoder_hidden, mask=src_mask)\n",
        "\n",
        "        # update rnn hidden state\n",
        "        rnn_input = torch.cat([prev_embed, context], dim=2)\n",
        "        output, hidden = self.rnn(rnn_input, hidden)\n",
        "\n",
        "        pre_output = torch.cat([prev_embed, output, context], dim=2)\n",
        "        pre_output = self.dropout_layer(pre_output)\n",
        "        pre_output = self.pre_output_layer(pre_output)\n",
        "\n",
        "        return output, hidden, pre_output\n",
        "\n",
        "    def forward(self, trg_embed, encoder_hidden, encoder_final,\n",
        "                src_mask, trg_mask, hidden=None, max_len=None):\n",
        "        \"\"\"Unroll the decoder one step at a time.\"\"\"\n",
        "\n",
        "        # the maximum number of steps to unroll the RNN\n",
        "        if max_len is None:\n",
        "            max_len = trg_mask.size(-1)\n",
        "\n",
        "        # initialize decoder hidden state\n",
        "        if hidden is None:\n",
        "            hidden = self.init_hidden(encoder_final)\n",
        "\n",
        "        # pre-compute projected encoder hidden states\n",
        "        # (the \"keys\" for the attention mechanism)\n",
        "        # this is only done for efficiency\n",
        "        proj_key = self.attention.key_layer(encoder_hidden)\n",
        "\n",
        "        # here we store all intermediate hidden states and pre-output vectors\n",
        "        decoder_states = []\n",
        "        pre_output_vectors = []\n",
        "\n",
        "        # unroll the decoder RNN for max_len steps\n",
        "        for i in range(max_len):\n",
        "            prev_embed = trg_embed[:, i].unsqueeze(1)\n",
        "            \n",
        "            #implement\n",
        "            out, hidden, pre_output = self.forward_step(\n",
        "            prev_embed, encoder_hidden, src_mask, proj_key, hidden)\n",
        "            decoder_states.append(out)\n",
        "            pre_output_vectors.append(pre_output)\n",
        "\n",
        "        decoder_states = torch.cat(decoder_states, dim=1)\n",
        "        pre_output_vectors = torch.cat(pre_output_vectors, dim=1)\n",
        "        return decoder_states, hidden, pre_output_vectors  # [B, N, D]\n",
        "\n",
        "    def init_hidden(self, encoder_final):\n",
        "        \"\"\"Returns the initial decoder state,\n",
        "        conditioned on the final encoder state.\"\"\"\n",
        "\n",
        "        if encoder_final is None:\n",
        "            return None  # start with zeros\n",
        "\n",
        "        return torch.tanh(self.bridge(encoder_final))"
      ]
    },
    {
      "cell_type": "markdown",
      "id": "lfTYyddZoGJq",
      "metadata": {
        "id": "lfTYyddZoGJq"
      },
      "source": [
        "##Teacher Forcing\n",
        "Advantage -  During training decoder receives the correct outpur from the training set as the previously decoded result to predict the next output. However, during inference decoder receives the previously decoded result to predict the next output. Teacher forcing improves the training process.\n",
        "\\\n",
        "Disadvantage - suffers from Exposure Bias as the model has to feed its prediction back to itself which causes poor model performance and instability."
      ]
    },
    {
      "cell_type": "markdown",
      "id": "4a1340a7-55d3-4d9c-8acd-72e793cc6731",
      "metadata": {
        "id": "4a1340a7-55d3-4d9c-8acd-72e793cc6731"
      },
      "source": [
        "## Attention\n",
        "In this step, you are asked to implement the additive attention mechanism introduced by Bahdanau et al. in this paper https://arxiv.org/pdf/1409.0473.pdf. You can also read this blogpost https://lilianweng.github.io/posts/2018-06-24-attention/ for further explanation"
      ]
    },
    {
      "cell_type": "code",
      "execution_count": 47,
      "id": "dff2d2a9-d0aa-4717-94c8-5d5312bc7d17",
      "metadata": {
        "id": "dff2d2a9-d0aa-4717-94c8-5d5312bc7d17"
      },
      "outputs": [],
      "source": [
        "class BahdanauAttention(nn.Module):\n",
        "    \"\"\"Implements Bahdanau (MLP) attention\"\"\"\n",
        "## todo\n",
        "    def __init__(self, hidden_size, key_size=None, query_size=None):\n",
        "        super(BahdanauAttention, self).__init__()\n",
        "\n",
        "        key_size = 2 * hidden_size if key_size is None else key_size\n",
        "        query_size = hidden_size if query_size is None else query_size\n",
        "\n",
        "        self.key_layer = nn.Linear(key_size, hidden_size, bias=False)\n",
        "        self.query_layer = nn.Linear(query_size, hidden_size, bias=False)\n",
        "        self.energy_layer = nn.Linear(hidden_size, 1, bias=False)\n",
        "        \n",
        "        self.alphas = None\n",
        "\n",
        "    def forward(self, query=None, proj_key=None, value=None, mask=None):\n",
        "        assert mask is not None, \"mask is required\"\n",
        "\n",
        "        query = self.query_layer(query)\n",
        "        \n",
        "        scores = self.energy_layer(torch.tanh(query + proj_key))\n",
        "        scores = scores.squeeze(2).unsqueeze(1)\n",
        "        scores.data.masked_fill_(mask == 0, -float('inf'))\n",
        "        \n",
        "        alphas = F.softmax(scores, dim=-1)\n",
        "        self.alphas = alphas        \n",
        "        \n",
        "        context = torch.bmm(alphas, value)\n",
        "        \n",
        "        return context, alphas"
      ]
    },
    {
      "cell_type": "markdown",
      "id": "7271f6fd-c096-4101-9d13-ce0b32f3f70d",
      "metadata": {
        "id": "7271f6fd-c096-4101-9d13-ce0b32f3f70d"
      },
      "source": [
        "## Creating the model\n",
        "We will use this auxilary function in order to create our model"
      ]
    },
    {
      "cell_type": "code",
      "execution_count": 48,
      "id": "ff147061-4d55-4898-b9cb-401c8c979c8f",
      "metadata": {
        "id": "ff147061-4d55-4898-b9cb-401c8c979c8f"
      },
      "outputs": [],
      "source": [
        "def make_model(src_vocab, tgt_vocab, emb_size=256, hidden_size=512, num_layers=1, dropout=0.1):\n",
        "    \"Helper: Construct a model from hyperparameters.\"\n",
        "\n",
        "    attention = BahdanauAttention(hidden_size)\n",
        "\n",
        "    model = EncoderDecoder(\n",
        "        Encoder(emb_size, hidden_size, num_layers=num_layers, dropout=dropout),\n",
        "        Decoder(emb_size, hidden_size, attention, num_layers=num_layers, dropout=dropout),\n",
        "        nn.Embedding(src_vocab, emb_size),\n",
        "        nn.Embedding(tgt_vocab, emb_size),\n",
        "        Generator(hidden_size, tgt_vocab))\n",
        "\n",
        "    return model.to(DEVICE)"
      ]
    },
    {
      "cell_type": "markdown",
      "id": "1287459d-1d8e-418c-a726-c9e536a7c650",
      "metadata": {
        "id": "1287459d-1d8e-418c-a726-c9e536a7c650"
      },
      "source": [
        "## Loss"
      ]
    },
    {
      "cell_type": "code",
      "execution_count": 49,
      "id": "0e45fa3d-7e66-4567-b476-95ada1bc1097",
      "metadata": {
        "id": "0e45fa3d-7e66-4567-b476-95ada1bc1097"
      },
      "outputs": [],
      "source": [
        "class SimpleLossCompute:\n",
        "    \"\"\"A simple loss compute and train function.\"\"\"\n",
        "\n",
        "    def __init__(self, generator, criterion, opt=None):\n",
        "        self.generator = generator\n",
        "        self.criterion = criterion\n",
        "        self.opt = opt\n",
        "\n",
        "    def __call__(self, x, y, norm):\n",
        "        x = self.generator(x)\n",
        "        loss = self.criterion(x.contiguous().view(-1, x.size(-1)),\n",
        "                              y.contiguous().view(-1))\n",
        "        loss = loss / norm\n",
        "\n",
        "        if self.opt is not None:\n",
        "            loss.backward()\n",
        "            self.opt.step()\n",
        "            self.opt.zero_grad()\n",
        "\n",
        "        return loss.data.item() * norm"
      ]
    },
    {
      "cell_type": "markdown",
      "id": "998a6b20-41c7-4fac-8796-952e63804a33",
      "metadata": {
        "id": "998a6b20-41c7-4fac-8796-952e63804a33"
      },
      "source": [
        "## Auxiliary batch class\n",
        "This class holds additional information about our sequences, like lenghts, masking for padding that needs to be added before we feed our batches into the network."
      ]
    },
    {
      "cell_type": "code",
      "execution_count": 50,
      "id": "f6ab3506-7db1-478f-8439-562bbb729a7b",
      "metadata": {
        "id": "f6ab3506-7db1-478f-8439-562bbb729a7b"
      },
      "outputs": [],
      "source": [
        "class Batch:\n",
        "    \"\"\"Object for holding a batch of data with mask during training.\n",
        "    Input is a batch from a torch text iterator.\n",
        "    \"\"\"\n",
        "\n",
        "    def __init__(self, src, trg, pad_index):\n",
        "\n",
        "        src, src_lengths = src\n",
        "\n",
        "        self.src = src\n",
        "        self.src_lengths = src_lengths\n",
        "        self.src_mask = (src != pad_index).unsqueeze(-2)\n",
        "        self.nseqs = src.size(0)\n",
        "\n",
        "        self.trg = None\n",
        "        self.trg_y = None\n",
        "        self.trg_mask = None\n",
        "        self.trg_lengths = None\n",
        "        self.ntokens = None\n",
        "\n",
        "        if trg is not None:\n",
        "            trg, trg_lengths = trg\n",
        "            self.trg = trg[:, :-1]\n",
        "            self.trg_lengths = trg_lengths\n",
        "            self.trg_y = trg[:, 1:]\n",
        "            self.trg_mask = (self.trg_y != pad_index)\n",
        "            self.ntokens = (self.trg_y != pad_index).data.sum().item()\n",
        "\n",
        "        self.src = self.src.to(DEVICE)\n",
        "        self.src_mask = self.src_mask.to(DEVICE)\n",
        "\n",
        "        if trg is not None:\n",
        "            self.trg = self.trg.to(DEVICE)\n",
        "            self.trg_y = self.trg_y.to(DEVICE)\n",
        "            self.trg_mask = self.trg_mask.to(DEVICE)"
      ]
    },
    {
      "cell_type": "markdown",
      "id": "32eea7a3-9c0b-473c-a87d-6875822273d9",
      "metadata": {
        "id": "32eea7a3-9c0b-473c-a87d-6875822273d9"
      },
      "source": [
        "## Auxiliary functions\n",
        "Here, we implement two additional functions to lookup words in the vocab and create Batch objects from the batch class"
      ]
    },
    {
      "cell_type": "code",
      "execution_count": 51,
      "id": "54c5722c-720b-487e-a538-73a4aeffe1ca",
      "metadata": {
        "id": "54c5722c-720b-487e-a538-73a4aeffe1ca"
      },
      "outputs": [],
      "source": [
        "def lookup_words(x, vocab=None):\n",
        "    if vocab is not None:\n",
        "        x = [vocab.itos[i] for i in x]\n",
        "    return [str(t) for t in x]\n",
        "\n",
        "\n",
        "def rebatch(pad_idx, batch):\n",
        "    \"\"\"Wrap torchtext batch into our own Batch class for pre-processing\"\"\"\n",
        "    # print(batch[0])\n",
        "    return Batch(batch[0], batch[1], pad_idx)"
      ]
    },
    {
      "cell_type": "markdown",
      "id": "570a8fc8-5c62-439a-9751-80c862d4169a",
      "metadata": {
        "id": "570a8fc8-5c62-439a-9751-80c862d4169a"
      },
      "source": [
        "## Greedy decode\n",
        "We will use this function to generate the output in inference mode."
      ]
    },
    {
      "cell_type": "code",
      "execution_count": 52,
      "id": "3f63ba79-6fb8-479e-a865-28322ecfc67b",
      "metadata": {
        "id": "3f63ba79-6fb8-479e-a865-28322ecfc67b"
      },
      "outputs": [],
      "source": [
        "def greedy_decode(model, src, src_mask, src_lengths, max_len=100, sos_index=1, eos_index=None):\n",
        "    \"\"\"Greedily decode a sentence.\"\"\"\n",
        "\n",
        "    with torch.no_grad():\n",
        "        encoder_hidden, encoder_final = model.encode(src, src_mask, src_lengths)\n",
        "        prev_y = torch.ones(1, 1).fill_(sos_index).type_as(src)\n",
        "        trg_mask = torch.ones_like(prev_y)\n",
        "\n",
        "    output = []\n",
        "    attention_scores = []\n",
        "    hidden = None\n",
        "\n",
        "    for i in range(max_len):\n",
        "        with torch.no_grad():\n",
        "            out, hidden, pre_output = model.decode(\n",
        "                encoder_hidden, encoder_final, src_mask,\n",
        "                prev_y, trg_mask, hidden)\n",
        "\n",
        "            # we predict from the pre-output layer, which is\n",
        "            # a combination of Decoder state, prev emb, and context\n",
        "            prob = model.generator(pre_output[:, -1])\n",
        "\n",
        "        _, next_word = torch.max(prob, dim=1)\n",
        "        next_word = next_word.data.item()\n",
        "        output.append(next_word)\n",
        "        prev_y = torch.ones(1, 1).type_as(src).fill_(next_word)\n",
        "        attention_scores.append(model.decoder.attention.alphas.cpu().numpy())\n",
        "\n",
        "    output = np.array(output)\n",
        "\n",
        "    # cut off everything starting from\n",
        "    # (only when eos_index provided)\n",
        "    if eos_index is not None:\n",
        "        #implement\n",
        "        f_eos = np.where(output==eos_index)[0]\n",
        "        if len(f_eos) > 0:\n",
        "            output = output[:f_eos[0]]  \n",
        "    \n",
        "    \n",
        "    return output, np.concatenate(attention_scores, axis=1)\n"
      ]
    },
    {
      "cell_type": "markdown",
      "id": "ba0f14ed-2a0b-47cb-9b67-a1eb23e7a00b",
      "metadata": {
        "id": "ba0f14ed-2a0b-47cb-9b67-a1eb23e7a00b"
      },
      "source": [
        "## Auxiliary function to print some examples"
      ]
    },
    {
      "cell_type": "code",
      "execution_count": 53,
      "id": "9bf3bdb0-ffdb-4eca-8f30-446a1a4b22fc",
      "metadata": {
        "id": "9bf3bdb0-ffdb-4eca-8f30-446a1a4b22fc"
      },
      "outputs": [],
      "source": [
        "def print_examples(example_iter, model, n=2, max_len=100,\n",
        "                   sos_index=1,\n",
        "                   src_eos_index=None,\n",
        "                   trg_eos_index=None,\n",
        "                   src_vocab=None, trg_vocab=None):\n",
        "    \"\"\"Prints N examples. Assumes batch size of 1.\"\"\"\n",
        "\n",
        "    model.eval()\n",
        "    count = 0\n",
        "    print()\n",
        "\n",
        "    if src_vocab is not None and trg_vocab is not None:\n",
        "        src_eos_index = src_vocab.stoi['<EOS>']\n",
        "        trg_sos_index = trg_vocab.stoi['<SOS>']\n",
        "        trg_eos_index = trg_vocab.stoi['<EOS>']\n",
        "    else:\n",
        "        src_eos_index = None\n",
        "        trg_sos_index = 1\n",
        "        trg_eos_index = None\n",
        "\n",
        "    for i, batch in enumerate(example_iter):\n",
        "\n",
        "        src = batch.src.cpu().numpy()[0, :]\n",
        "        trg = batch.trg_y.cpu().numpy()[0, :]\n",
        "\n",
        "        # remove  (if it is there)\n",
        "        src = src[:-1] if src[-1] == src_eos_index else src\n",
        "        trg = trg[:-1] if trg[-1] == trg_eos_index else trg\n",
        "\n",
        "        result, _ = greedy_decode(\n",
        "            model, batch.src, batch.src_mask, batch.src_lengths,\n",
        "            max_len=max_len, sos_index=trg_sos_index, eos_index=trg_eos_index)\n",
        "        print(\"Example #%d\" % (i + 1))\n",
        "        print(\"Src : \", \" \".join(lookup_words(src, vocab=src_vocab)))\n",
        "        print(\"Trg : \", \" \".join(lookup_words(trg, vocab=trg_vocab)))\n",
        "        print(\"Pred: \", \" \".join(lookup_words(result, vocab=trg_vocab)))\n",
        "        print()\n",
        "\n",
        "        count += 1\n",
        "        if count == n:\n",
        "            break"
      ]
    },
    {
      "cell_type": "markdown",
      "id": "d431052e-03ce-4c0a-86a9-cb05452ea32b",
      "metadata": {
        "id": "d431052e-03ce-4c0a-86a9-cb05452ea32b"
      },
      "source": [
        "## Run one epoch"
      ]
    },
    {
      "cell_type": "code",
      "execution_count": 54,
      "id": "7b3509bd-0ee4-48b4-9646-4f3c8f1bd58b",
      "metadata": {
        "id": "7b3509bd-0ee4-48b4-9646-4f3c8f1bd58b"
      },
      "outputs": [],
      "source": [
        "import time, math\n",
        "\n",
        "def run_epoch(data_iter, model, loss_compute, print_every=50):\n",
        "    \"\"\"Standard Training and Logging Function\"\"\"\n",
        "\n",
        "    start = time.time()\n",
        "    total_tokens = 0\n",
        "    total_loss = 0\n",
        "    print_tokens = 0\n",
        "\n",
        "    for i, batch in enumerate(data_iter, 1):\n",
        "       \n",
        "        out, _, pre_output = model.forward(batch.src, batch.trg, batch.src_mask, batch.trg_mask, batch.src_lengths, batch.trg_lengths)\n",
        "        loss = loss_compute(pre_output, batch.trg_y, batch.nseqs)\n",
        "        total_loss += loss\n",
        "        total_tokens += batch.ntokens\n",
        "        print_tokens += batch.ntokens\n",
        "\n",
        "        if model.training and i % print_every == 0:\n",
        "            elapsed = time.time() - start\n",
        "            print(\"Epoch Step: %d Loss: %f Tokens per Sec: %f\" %\n",
        "                  (i, loss / batch.nseqs, print_tokens / elapsed))\n",
        "            start = time.time()\n",
        "            print_tokens = 0\n",
        "\n",
        "    return math.exp(total_loss / float(total_tokens))"
      ]
    },
    {
      "cell_type": "markdown",
      "id": "749b1251-8616-40ac-944d-c75f8b511738",
      "metadata": {
        "id": "749b1251-8616-40ac-944d-c75f8b511738"
      },
      "source": [
        "## Train the model"
      ]
    },
    {
      "cell_type": "code",
      "execution_count": 55,
      "id": "36a7e7df-844d-42d1-b7d6-f1b44207ce70",
      "metadata": {
        "id": "36a7e7df-844d-42d1-b7d6-f1b44207ce70"
      },
      "outputs": [],
      "source": [
        "def train(model, num_epochs=10, lr=0.0003, print_every=100):\n",
        "    model.to(DEVICE)\n",
        "    \n",
        "    # implement\n",
        "    \n",
        "    criterion = nn.NLLLoss(reduction=\"sum\", ignore_index=PAD_IDX)\n",
        "    optim = torch.optim.Adam(model.parameters(), lr=lr)\n",
        "\n",
        "    train_perplexities = []\n",
        "    dev_perplexities = []\n",
        "\n",
        "    for epoch in range(num_epochs):\n",
        "        print(\"Epoch\", epoch)\n",
        "        model.train()\n",
        "        train_perplexity = run_epoch((rebatch(PAD_IDX, b) for b in train_loader),\n",
        "                                     model,\n",
        "                                     SimpleLossCompute(model.generator, criterion, optim),\n",
        "                                     print_every=print_every)\n",
        "        train_perplexities.append(train_perplexity)\n",
        "        model.eval()\n",
        "        with torch.no_grad():\n",
        "            print_examples((rebatch(PAD_IDX, x) for x in valid_loader),\n",
        "                           model, n=3, src_vocab=modern_vocab, trg_vocab=original_vocab)\n",
        "\n",
        "            dev_perplexity = run_epoch((rebatch(PAD_IDX, b) for b in valid_loader),\n",
        "                                       model,\n",
        "                                       SimpleLossCompute(model.generator, criterion, None))\n",
        "            print(\"Validation perplexity: %f\" % dev_perplexity)\n",
        "            dev_perplexities.append(dev_perplexity)\n",
        "\n",
        "    return train_perplexities, dev_perplexities\n"
      ]
    },
    {
      "cell_type": "markdown",
      "id": "02fa4b0d-a4a7-4949-bae1-8b7b6de90ef3",
      "metadata": {
        "id": "02fa4b0d-a4a7-4949-bae1-8b7b6de90ef3"
      },
      "source": [
        "## Run and evaluate the model"
      ]
    },
    {
      "cell_type": "code",
      "execution_count": 56,
      "id": "7b510dfd-6582-47f9-b5d6-ddd08f97d759",
      "metadata": {
        "colab": {
          "base_uri": "https://localhost:8080/",
          "height": 1000
        },
        "id": "7b510dfd-6582-47f9-b5d6-ddd08f97d759",
        "outputId": "1ae53637-3de5-4565-dd9a-cbf83352c1a8"
      },
      "outputs": [
        {
          "name": "stderr",
          "output_type": "stream",
          "text": [
            "/home/jaspreet/anaconda3/envs/pytorch/lib/python3.9/site-packages/torch/nn/modules/rnn.py:67: UserWarning: dropout option adds dropout after all but last recurrent layer, so non-zero dropout expects num_layers greater than 1, but got dropout=0.2 and num_layers=1\n",
            "  warnings.warn(\"dropout option adds dropout after all but last \"\n"
          ]
        },
        {
          "name": "stdout",
          "output_type": "stream",
          "text": [
            "Epoch 0\n",
            "Epoch Step: 100 Loss: 48.825207 Tokens per Sec: 14811.776733\n",
            "Epoch Step: 200 Loss: 52.991856 Tokens per Sec: 14548.230379\n",
            "\n",
            "Example #1\n",
            "Src :  <SOS> now , you lie there on the <UNK> .\n",
            "Trg :  lie thou there ( <UNK> down a letter ) , for here comes the <UNK> that must be caught with <UNK> .\n",
            "Pred:  o , you are <UNK> .\n",
            "\n",
            "Example #2\n",
            "Src :  <SOS> she said if she were <UNK> in someone , it would be someone who looked like me .\n",
            "Trg :  <UNK> once told me she did <UNK> me , and i have heard herself come thus near , that , should she fancy , it should be one of my complexion .\n",
            "Pred:  if i am <UNK> , i am <UNK> , and <UNK> <UNK> , and <UNK> <UNK> , and <UNK> <UNK> , and <UNK> <UNK> , and <UNK> <UNK> , and <UNK> <UNK> , and <UNK> <UNK> , and <UNK> <UNK> , and <UNK> <UNK> , and <UNK> <UNK> , and <UNK> <UNK> , and <UNK> <UNK> , and <UNK> <UNK> , and <UNK> <UNK> , and <UNK> <UNK> , and <UNK> <UNK> , and <UNK> <UNK> , and <UNK> <UNK> , and <UNK> <UNK> , and <UNK> <UNK> , and <UNK> <UNK> , and <UNK> <UNK> , and <UNK> <UNK>\n",
            "\n",
            "Example #3\n",
            "Src :  <SOS> besides , she <UNK> me more <UNK> than the other servants .\n",
            "Trg :  besides , she <UNK> me with a more <UNK> respect than <UNK> else that follows her .\n",
            "Pred:  <UNK> , <UNK> , and <UNK> <UNK> <UNK> , and <UNK> <UNK> <UNK> .\n",
            "\n",
            "Validation perplexity: 52.443038\n",
            "Epoch 1\n",
            "Epoch Step: 100 Loss: 38.747753 Tokens per Sec: 14093.805154\n",
            "Epoch Step: 200 Loss: 37.802784 Tokens per Sec: 14858.463540\n",
            "\n",
            "Example #1\n",
            "Src :  <SOS> now , you lie there on the <UNK> .\n",
            "Trg :  lie thou there ( <UNK> down a letter ) , for here comes the <UNK> that must be caught with <UNK> .\n",
            "Pred:  now , you are not the <UNK> .\n",
            "\n",
            "Example #2\n",
            "Src :  <SOS> she said if she were <UNK> in someone , it would be someone who looked like me .\n",
            "Trg :  <UNK> once told me she did <UNK> me , and i have heard herself come thus near , that , should she fancy , it should be one of my complexion .\n",
            "Pred:  she is if she was <UNK> , and <UNK> in the <UNK> of <UNK> , and <UNK> it be <UNK> .\n",
            "\n",
            "Example #3\n",
            "Src :  <SOS> besides , she <UNK> me more <UNK> than the other servants .\n",
            "Trg :  besides , she <UNK> me with a more <UNK> respect than <UNK> else that follows her .\n",
            "Pred:  nay , she is <UNK> me , <UNK> , and <UNK> <UNK> the <UNK> .\n",
            "\n",
            "Validation perplexity: 35.838600\n",
            "Epoch 2\n",
            "Epoch Step: 100 Loss: 42.295570 Tokens per Sec: 13867.315727\n",
            "Epoch Step: 200 Loss: 37.273022 Tokens per Sec: 14342.625410\n",
            "\n",
            "Example #1\n",
            "Src :  <SOS> now , you lie there on the <UNK> .\n",
            "Trg :  lie thou there ( <UNK> down a letter ) , for here comes the <UNK> that must be caught with <UNK> .\n",
            "Pred:  now , you are not <UNK> .\n",
            "\n",
            "Example #2\n",
            "Src :  <SOS> she said if she were <UNK> in someone , it would be someone who looked like me .\n",
            "Trg :  <UNK> once told me she did <UNK> me , and i have heard herself come thus near , that , should she fancy , it should be one of my complexion .\n",
            "Pred:  she were if she were <UNK> in the <UNK> of <UNK> , and i have been <UNK> that <UNK> <UNK> me .\n",
            "\n",
            "Example #3\n",
            "Src :  <SOS> besides , she <UNK> me more <UNK> than the other servants .\n",
            "Trg :  besides , she <UNK> me with a more <UNK> respect than <UNK> else that follows her .\n",
            "Pred:  but she she <UNK> me <UNK> <UNK> than the <UNK> .\n",
            "\n",
            "Validation perplexity: 30.216586\n",
            "Epoch 3\n",
            "Epoch Step: 100 Loss: 30.848763 Tokens per Sec: 14060.456619\n",
            "Epoch Step: 200 Loss: 31.588936 Tokens per Sec: 14854.324680\n",
            "\n",
            "Example #1\n",
            "Src :  <SOS> now , you lie there on the <UNK> .\n",
            "Trg :  lie thou there ( <UNK> down a letter ) , for here comes the <UNK> that must be caught with <UNK> .\n",
            "Pred:  now , you must be <UNK> .\n",
            "\n",
            "Example #2\n",
            "Src :  <SOS> she said if she were <UNK> in someone , it would be someone who looked like me .\n",
            "Trg :  <UNK> once told me she did <UNK> me , and i have heard herself come thus near , that , should she fancy , it should be one of my complexion .\n",
            "Pred:  she were if she were she had <UNK> , and be <UNK> to be <UNK> .\n",
            "\n",
            "Example #3\n",
            "Src :  <SOS> besides , she <UNK> me more <UNK> than the other servants .\n",
            "Trg :  besides , she <UNK> me with a more <UNK> respect than <UNK> else that follows her .\n",
            "Pred:  <UNK> , she <UNK> me more than the <UNK> .\n",
            "\n",
            "Validation perplexity: 27.004630\n",
            "Epoch 4\n",
            "Epoch Step: 100 Loss: 31.376701 Tokens per Sec: 13510.654540\n",
            "Epoch Step: 200 Loss: 30.171150 Tokens per Sec: 14248.091582\n",
            "\n",
            "Example #1\n",
            "Src :  <SOS> now , you lie there on the <UNK> .\n",
            "Trg :  lie thou there ( <UNK> down a letter ) , for here comes the <UNK> that must be caught with <UNK> .\n",
            "Pred:  now , thou liest , there is there on the <UNK> .\n",
            "\n",
            "Example #2\n",
            "Src :  <SOS> she said if she were <UNK> in someone , it would be someone who looked like me .\n",
            "Trg :  <UNK> once told me she did <UNK> me , and i have heard herself come thus near , that , should she fancy , it should be one of my complexion .\n",
            "Pred:  she were if she were <UNK> in the <UNK> , would be <UNK> in such a <UNK> .\n",
            "\n",
            "Example #3\n",
            "Src :  <SOS> besides , she <UNK> me more <UNK> than the other servants .\n",
            "Trg :  besides , she <UNK> me with a more <UNK> respect than <UNK> else that follows her .\n",
            "Pred:  <UNK> , she <UNK> me more than the <UNK> <UNK> .\n",
            "\n",
            "Validation perplexity: 25.255335\n",
            "Epoch 5\n",
            "Epoch Step: 100 Loss: 24.966656 Tokens per Sec: 14203.307128\n",
            "Epoch Step: 200 Loss: 33.669090 Tokens per Sec: 13757.720965\n",
            "\n",
            "Example #1\n",
            "Src :  <SOS> now , you lie there on the <UNK> .\n",
            "Trg :  lie thou there ( <UNK> down a letter ) , for here comes the <UNK> that must be caught with <UNK> .\n",
            "Pred:  now , you <UNK> there on the <UNK> .\n",
            "\n",
            "Example #2\n",
            "Src :  <SOS> she said if she were <UNK> in someone , it would be someone who looked like me .\n",
            "Trg :  <UNK> once told me she did <UNK> me , and i have heard herself come thus near , that , should she fancy , it should be one of my complexion .\n",
            "Pred:  she were if she were <UNK> in the <UNK> , would be <UNK> .\n",
            "\n",
            "Example #3\n",
            "Src :  <SOS> besides , she <UNK> me more <UNK> than the other servants .\n",
            "Trg :  besides , she <UNK> me with a more <UNK> respect than <UNK> else that follows her .\n",
            "Pred:  besides , she <UNK> me more than the <UNK> .\n",
            "\n",
            "Validation perplexity: 24.526440\n",
            "Epoch 6\n",
            "Epoch Step: 100 Loss: 27.807158 Tokens per Sec: 13554.841330\n",
            "Epoch Step: 200 Loss: 24.305265 Tokens per Sec: 15181.799378\n",
            "\n",
            "Example #1\n",
            "Src :  <SOS> now , you lie there on the <UNK> .\n",
            "Trg :  lie thou there ( <UNK> down a letter ) , for here comes the <UNK> that must be caught with <UNK> .\n",
            "Pred:  now , you <UNK> there on the <UNK> .\n",
            "\n",
            "Example #2\n",
            "Src :  <SOS> she said if she were <UNK> in someone , it would be someone who looked like me .\n",
            "Trg :  <UNK> once told me she did <UNK> me , and i have heard herself come thus near , that , should she fancy , it should be one of my complexion .\n",
            "Pred:  she were if she were <UNK> in such a <UNK> , would be a <UNK> that <UNK> me .\n",
            "\n",
            "Example #3\n",
            "Src :  <SOS> besides , she <UNK> me more <UNK> than the other servants .\n",
            "Trg :  besides , she <UNK> me with a more <UNK> respect than <UNK> else that follows her .\n",
            "Pred:  besides , she <UNK> me more than <UNK> than the <UNK> .\n",
            "\n",
            "Validation perplexity: 23.748631\n",
            "Epoch 7\n",
            "Epoch Step: 100 Loss: 28.176632 Tokens per Sec: 14609.079358\n",
            "Epoch Step: 200 Loss: 22.874756 Tokens per Sec: 14549.637335\n",
            "\n",
            "Example #1\n",
            "Src :  <SOS> now , you lie there on the <UNK> .\n",
            "Trg :  lie thou there ( <UNK> down a letter ) , for here comes the <UNK> that must be caught with <UNK> .\n",
            "Pred:  now , you lie there on the <UNK> .\n",
            "\n",
            "Example #2\n",
            "Src :  <SOS> she said if she were <UNK> in someone , it would be someone who looked like me .\n",
            "Trg :  <UNK> once told me she did <UNK> me , and i have heard herself come thus near , that , should she fancy , it should be one of my complexion .\n",
            "Pred:  she were if she were <UNK> , would be <UNK> that <UNK> me .\n",
            "\n",
            "Example #3\n",
            "Src :  <SOS> besides , she <UNK> me more <UNK> than the other servants .\n",
            "Trg :  besides , she <UNK> me with a more <UNK> respect than <UNK> else that follows her .\n",
            "Pred:  besides , she <UNK> me more than the <UNK> .\n",
            "\n",
            "Validation perplexity: 23.538413\n",
            "Epoch 8\n",
            "Epoch Step: 100 Loss: 22.994947 Tokens per Sec: 15136.103762\n",
            "Epoch Step: 200 Loss: 26.021727 Tokens per Sec: 14807.372725\n",
            "\n",
            "Example #1\n",
            "Src :  <SOS> now , you lie there on the <UNK> .\n",
            "Trg :  lie thou there ( <UNK> down a letter ) , for here comes the <UNK> that must be caught with <UNK> .\n",
            "Pred:  now , you lie there on the <UNK> .\n",
            "\n",
            "Example #2\n",
            "Src :  <SOS> she said if she were <UNK> in someone , it would be someone who looked like me .\n",
            "Trg :  <UNK> once told me she did <UNK> me , and i have heard herself come thus near , that , should she fancy , it should be one of my complexion .\n",
            "Pred:  she were if she were were in <UNK> , would be <UNK> in such a <UNK> .\n",
            "\n",
            "Example #3\n",
            "Src :  <SOS> besides , she <UNK> me more <UNK> than the other servants .\n",
            "Trg :  besides , she <UNK> me with a more <UNK> respect than <UNK> else that follows her .\n",
            "Pred:  besides , she <UNK> me more than the other <UNK> of them .\n",
            "\n",
            "Validation perplexity: 23.506240\n",
            "Epoch 9\n",
            "Epoch Step: 100 Loss: 25.035748 Tokens per Sec: 14498.217651\n",
            "Epoch Step: 200 Loss: 25.638376 Tokens per Sec: 14485.950128\n",
            "\n",
            "Example #1\n",
            "Src :  <SOS> now , you lie there on the <UNK> .\n",
            "Trg :  lie thou there ( <UNK> down a letter ) , for here comes the <UNK> that must be caught with <UNK> .\n",
            "Pred:  now , you lie there , there is there on the <UNK> .\n",
            "\n",
            "Example #2\n",
            "Src :  <SOS> she said if she were <UNK> in someone , it would be someone who looked like me .\n",
            "Trg :  <UNK> once told me she did <UNK> me , and i have heard herself come thus near , that , should she fancy , it should be one of my complexion .\n",
            "Pred:  she were if she were <UNK> in such a <UNK> <UNK> , that she should be <UNK> in me .\n",
            "\n",
            "Example #3\n",
            "Src :  <SOS> besides , she <UNK> me more <UNK> than the other servants .\n",
            "Trg :  besides , she <UNK> me with a more <UNK> respect than <UNK> else that follows her .\n",
            "Pred:  besides , she <UNK> me more than the other <UNK> .\n",
            "\n",
            "Validation perplexity: 24.004337\n"
          ]
        },
        {
          "data": {
            "image/png": "[encoded data removed]",
            "text/plain": [
              "<Figure size 640x480 with 1 Axes>"
            ]
          },
          "metadata": {},
          "output_type": "display_data"
        }
      ],
      "source": [
        "model = make_model(len(modern_vocab), len(original_vocab),\n",
        "                   emb_size=256, hidden_size=256,\n",
        "                   num_layers=1, dropout=0.2)\n",
        "train_perplexities, dev_perplexities = train(model, num_epochs=10, print_every=100)\n",
        "\n",
        "import matplotlib.pyplot as plt\n",
        "\n",
        "def plot_perplexity(perplexities):\n",
        "    #implement\n",
        "    plt.title(\"Perplexity for each Epoch\")\n",
        "    plt.xlabel(\"Epoch\")\n",
        "    plt.ylabel(\"Perplexity\")\n",
        "    plt.plot(perplexities)\n",
        "\n",
        "plot_perplexity(train_perplexities)\n",
        "plot_perplexity(dev_perplexities)\n",
        "\n",
        "def test():\n",
        "    style_transferred_sent = []\n",
        "    alphas = []  # save the last attention scores\n",
        "    for batch in test_loader:\n",
        "        batch = rebatch(PAD_IDX, batch)\n",
        "        pred, attention = greedy_decode(\n",
        "            model, batch.src, batch.src_mask, batch.src_lengths, max_len=25,\n",
        "            sos_index=modern_vocab.stoi['<SOS>'],\n",
        "            eos_index=original_vocab.stoi['<EOS>'])\n",
        "        style_transferred_sent.append(pred)\n",
        "        alphas.append(attention)\n",
        "    return style_transferred_sent\n",
        "\n",
        "style_transferred_sent = test()\n",
        "style_transferred_sent = [lookup_words(x, original_vocab) for x in style_transferred_sent]\n",
        "style_transferred_sent = [\" \".join(x) for x in style_transferred_sent]"
      ]
    },
    {
      "attachments": {},
      "cell_type": "markdown",
      "id": "ad4b8c96",
      "metadata": {},
      "source": [
        "## Training Model without unknown tokens"
      ]
    },
    {
      "cell_type": "code",
      "execution_count": 57,
      "id": "10c2ec65",
      "metadata": {},
      "outputs": [
        {
          "name": "stdout",
          "output_type": "stream",
          "text": [
            "Epoch 0\n",
            "Epoch Step: 100 Loss: 48.483326 Tokens per Sec: 15755.261656\n",
            "Epoch Step: 200 Loss: 43.292500 Tokens per Sec: 14471.206488\n",
            "\n",
            "Example #1\n",
            "Src :  <SOS> now , you lie there on the .\n",
            "Trg :  lie thou there ( down a letter ) , for here comes the that must be caught with .\n",
            "Pred:  why , you , you are the .\n",
            "\n",
            "Example #2\n",
            "Src :  <SOS> she said if she were in someone , it would be someone who looked like me .\n",
            "Trg :  once told me she did me , and i have heard herself come thus near , that , should she fancy , it should be one of my complexion .\n",
            "Pred:  he is it is it is it is it , i will not be .\n",
            "\n",
            "Example #3\n",
            "Src :  <SOS> besides , she me more than the other servants .\n",
            "Trg :  besides , she me with a more respect than else that follows her .\n",
            "Pred:  why , i am me , i will not the .\n",
            "\n",
            "Validation perplexity: 58.687620\n",
            "Epoch 1\n",
            "Epoch Step: 100 Loss: 41.626564 Tokens per Sec: 14736.757943\n",
            "Epoch Step: 200 Loss: 37.815865 Tokens per Sec: 14677.418852\n",
            "\n",
            "Example #1\n",
            "Src :  <SOS> now , you lie there on the .\n",
            "Trg :  lie thou there ( down a letter ) , for here comes the that must be caught with .\n",
            "Pred:  now , thou art thou the .\n",
            "\n",
            "Example #2\n",
            "Src :  <SOS> she said if she were in someone , it would be someone who looked like me .\n",
            "Trg :  once told me she did me , and i have heard herself come thus near , that , should she fancy , it should be one of my complexion .\n",
            "Pred:  she is it , and i have it be , and be not be so .\n",
            "\n",
            "Example #3\n",
            "Src :  <SOS> besides , she me more than the other servants .\n",
            "Trg :  besides , she me with a more respect than else that follows her .\n",
            "Pred:  i am she me , for the of the of the of the of the of the of the .\n",
            "\n",
            "Validation perplexity: 40.010486\n",
            "Epoch 2\n",
            "Epoch Step: 100 Loss: 44.095337 Tokens per Sec: 14981.243575\n",
            "Epoch Step: 200 Loss: 40.949764 Tokens per Sec: 14312.273377\n",
            "\n",
            "Example #1\n",
            "Src :  <SOS> now , you lie there on the .\n",
            "Trg :  lie thou there ( down a letter ) , for here comes the that must be caught with .\n",
            "Pred:  now , you are you .\n",
            "\n",
            "Example #2\n",
            "Src :  <SOS> she said if she were in someone , it would be someone who looked like me .\n",
            "Trg :  once told me she did me , and i have heard herself come thus near , that , should she fancy , it should be one of my complexion .\n",
            "Pred:  she is she she , and it be so .\n",
            "\n",
            "Example #3\n",
            "Src :  <SOS> besides , she me more than the other servants .\n",
            "Trg :  besides , she me with a more respect than else that follows her .\n",
            "Pred:  i pray you , and i have more than the .\n",
            "\n",
            "Validation perplexity: 33.549868\n",
            "Epoch 3\n",
            "Epoch Step: 100 Loss: 37.229443 Tokens per Sec: 14391.716758\n",
            "Epoch Step: 200 Loss: 38.595470 Tokens per Sec: 14016.135069\n",
            "\n",
            "Example #1\n",
            "Src :  <SOS> now , you lie there on the .\n",
            "Trg :  lie thou there ( down a letter ) , for here comes the that must be caught with .\n",
            "Pred:  now now , you are not the .\n",
            "\n",
            "Example #2\n",
            "Src :  <SOS> she said if she were in someone , it would be someone who looked like me .\n",
            "Trg :  once told me she did me , and i have heard herself come thus near , that , should she fancy , it should be one of my complexion .\n",
            "Pred:  she had so she were in the , and so it be so much .\n",
            "\n",
            "Example #3\n",
            "Src :  <SOS> besides , she me more than the other servants .\n",
            "Trg :  besides , she me with a more respect than else that follows her .\n",
            "Pred:  my lord , she me more than the .\n",
            "\n",
            "Validation perplexity: 30.769062\n",
            "Epoch 4\n",
            "Epoch Step: 100 Loss: 34.945816 Tokens per Sec: 15144.730325\n",
            "Epoch Step: 200 Loss: 34.432495 Tokens per Sec: 13147.567571\n",
            "\n",
            "Example #1\n",
            "Src :  <SOS> now , you lie there on the .\n",
            "Trg :  lie thou there ( down a letter ) , for here comes the that must be caught with .\n",
            "Pred:  now , you are not .\n",
            "\n",
            "Example #2\n",
            "Src :  <SOS> she said if she were in someone , it would be someone who looked like me .\n",
            "Trg :  once told me she did me , and i have heard herself come thus near , that , should she fancy , it should be one of my complexion .\n",
            "Pred:  she had she were in the , if it were it .\n",
            "\n",
            "Example #3\n",
            "Src :  <SOS> besides , she me more than the other servants .\n",
            "Trg :  besides , she me with a more respect than else that follows her .\n",
            "Pred:  besides , she me more than the .\n",
            "\n",
            "Validation perplexity: 28.388750\n",
            "Epoch 5\n",
            "Epoch Step: 100 Loss: 29.775606 Tokens per Sec: 14092.191535\n",
            "Epoch Step: 200 Loss: 36.406563 Tokens per Sec: 13858.803057\n",
            "\n",
            "Example #1\n",
            "Src :  <SOS> now , you lie there on the .\n",
            "Trg :  lie thou there ( down a letter ) , for here comes the that must be caught with .\n",
            "Pred:  now , you are not the .\n",
            "\n",
            "Example #2\n",
            "Src :  <SOS> she said if she were in someone , it would be someone who looked like me .\n",
            "Trg :  once told me she did me , and i have heard herself come thus near , that , should she fancy , it should be one of my complexion .\n",
            "Pred:  she were not , she were it , that would be so much .\n",
            "\n",
            "Example #3\n",
            "Src :  <SOS> besides , she me more than the other servants .\n",
            "Trg :  besides , she me with a more respect than else that follows her .\n",
            "Pred:  besides , she me more than the other .\n",
            "\n",
            "Validation perplexity: 27.333532\n",
            "Epoch 6\n",
            "Epoch Step: 100 Loss: 26.520262 Tokens per Sec: 14423.137841\n",
            "Epoch Step: 200 Loss: 29.015379 Tokens per Sec: 14907.419720\n",
            "\n",
            "Example #1\n",
            "Src :  <SOS> now , you lie there on the .\n",
            "Trg :  lie thou there ( down a letter ) , for here comes the that must be caught with .\n",
            "Pred:  now , you lie with the .\n",
            "\n",
            "Example #2\n",
            "Src :  <SOS> she said if she were in someone , it would be someone who looked like me .\n",
            "Trg :  once told me she did me , and i have heard herself come thus near , that , should she fancy , it should be one of my complexion .\n",
            "Pred:  she said , she were in the world , it should be so much .\n",
            "\n",
            "Example #3\n",
            "Src :  <SOS> besides , she me more than the other servants .\n",
            "Trg :  besides , she me with a more respect than else that follows her .\n",
            "Pred:  besides , she me more than the .\n",
            "\n",
            "Validation perplexity: 26.522970\n",
            "Epoch 7\n",
            "Epoch Step: 100 Loss: 32.555473 Tokens per Sec: 14041.830884\n",
            "Epoch Step: 200 Loss: 30.611431 Tokens per Sec: 15227.506819\n",
            "\n",
            "Example #1\n",
            "Src :  <SOS> now , you lie there on the .\n",
            "Trg :  lie thou there ( down a letter ) , for here comes the that must be caught with .\n",
            "Pred:  now , thou liest .\n",
            "\n",
            "Example #2\n",
            "Src :  <SOS> she said if she were in someone , it would be someone who looked like me .\n",
            "Trg :  once told me she did me , and i have heard herself come thus near , that , should she fancy , it should be one of my complexion .\n",
            "Pred:  she said , she were in , and would be so much .\n",
            "\n",
            "Example #3\n",
            "Src :  <SOS> besides , she me more than the other servants .\n",
            "Trg :  besides , she me with a more respect than else that follows her .\n",
            "Pred:  besides , she more than the other .\n",
            "\n",
            "Validation perplexity: 26.207148\n",
            "Epoch 8\n",
            "Epoch Step: 100 Loss: 28.594416 Tokens per Sec: 15834.837634\n",
            "Epoch Step: 200 Loss: 24.727100 Tokens per Sec: 15263.326943\n",
            "\n",
            "Example #1\n",
            "Src :  <SOS> now , you lie there on the .\n",
            "Trg :  lie thou there ( down a letter ) , for here comes the that must be caught with .\n",
            "Pred:  now , you lie with the .\n",
            "\n",
            "Example #2\n",
            "Src :  <SOS> she said if she were in someone , it would be someone who looked like me .\n",
            "Trg :  once told me she did me , and i have heard herself come thus near , that , should she fancy , it should be one of my complexion .\n",
            "Pred:  she said , she were in the of it , and so should be so much .\n",
            "\n",
            "Example #3\n",
            "Src :  <SOS> besides , she me more than the other servants .\n",
            "Trg :  besides , she me with a more respect than else that follows her .\n",
            "Pred:  besides , she me more than the .\n",
            "\n",
            "Validation perplexity: 26.831650\n",
            "Epoch 9\n",
            "Epoch Step: 100 Loss: 23.614107 Tokens per Sec: 13947.672922\n",
            "Epoch Step: 200 Loss: 27.673452 Tokens per Sec: 14297.708432\n",
            "\n",
            "Example #1\n",
            "Src :  <SOS> now , you lie there on the .\n",
            "Trg :  lie thou there ( down a letter ) , for here comes the that must be caught with .\n",
            "Pred:  now , thou liest .\n",
            "\n",
            "Example #2\n",
            "Src :  <SOS> she said if she were in someone , it would be someone who looked like me .\n",
            "Trg :  once told me she did me , and i have heard herself come thus near , that , should she fancy , it should be one of my complexion .\n",
            "Pred:  she said , she were in an hour , would it were so much .\n",
            "\n",
            "Example #3\n",
            "Src :  <SOS> besides , she me more than the other servants .\n",
            "Trg :  besides , she me with a more respect than else that follows her .\n",
            "Pred:  besides , she me more than the other .\n",
            "\n",
            "Validation perplexity: 27.214276\n"
          ]
        },
        {
          "data": {
            "image/png": "[encoded data removed]",
            "text/plain": [
              "<Figure size 640x480 with 1 Axes>"
            ]
          },
          "metadata": {},
          "output_type": "display_data"
        }
      ],
      "source": [
        "\n",
        "\n",
        "numericalized_train = numericalize(train_sents,remove_unk=True)\n",
        "numericalized_valid = numericalize(valid_sents,remove_unk=True)\n",
        "numericalized_test = numericalize(test_sents,remove_unk=True)\n",
        "\n",
        "train_dataset = StyleTransferDataset(numericalized_train, modern_vocab, original_vocab)\n",
        "valid_dataset = StyleTransferDataset(numericalized_valid, modern_vocab, original_vocab)\n",
        "test_dataset = StyleTransferDataset(numericalized_test, modern_vocab, original_vocab)\n",
        "\n",
        "train_loader = DataLoader(train_dataset, batch_size=train_batch_size, shuffle=True,\n",
        "                          collate_fn=MyCollate(pad_idx=PAD_IDX))\n",
        "valid_loader = DataLoader(valid_dataset, batch_size=valid_batch_size, shuffle=False,\n",
        "                          collate_fn=MyCollate(pad_idx=PAD_IDX))\n",
        "test_loader = DataLoader(test_dataset, batch_size=valid_batch_size, shuffle=False,\n",
        "                         collate_fn=MyCollate(pad_idx=PAD_IDX))\n",
        "\n",
        "model = make_model(len(modern_vocab), len(original_vocab),\n",
        "                   emb_size=256, hidden_size=256,\n",
        "                   num_layers=1, dropout=0.2)\n",
        "train_perplexities, dev_perplexities = train(model, num_epochs=10, print_every=100)\n",
        "\n",
        "plot_perplexity(train_perplexities)\n",
        "plot_perplexity(dev_perplexities)\n",
        "\n",
        "def test():\n",
        "    style_transferred_sent = []\n",
        "    alphas = []  # save the last attention scores\n",
        "    for batch in test_loader:\n",
        "        batch = rebatch(PAD_IDX, batch)\n",
        "        pred, attention = greedy_decode(\n",
        "            model, batch.src, batch.src_mask, batch.src_lengths, max_len=25,\n",
        "            sos_index=modern_vocab.stoi['<SOS>'],\n",
        "            eos_index=original_vocab.stoi['<EOS>'])\n",
        "        style_transferred_sent.append(pred)\n",
        "        alphas.append(attention)\n",
        "    return style_transferred_sent\n",
        "\n",
        "style_transferred_sent = test()\n",
        "style_transferred_sent = [lookup_words(x, original_vocab) for x in style_transferred_sent]\n",
        "style_transferred_sent = [\" \".join(x) for x in style_transferred_sent]"
      ]
    },
    {
      "cell_type": "markdown",
      "id": "2d69202b-bef7-46df-8fed-d8ae066477a6",
      "metadata": {
        "id": "2d69202b-bef7-46df-8fed-d8ae066477a6"
      },
      "source": [
        "## Save output\n"
      ]
    },
    {
      "cell_type": "code",
      "execution_count": 58,
      "id": "0a3fb133-0720-4ef2-aa36-8a03f3072256",
      "metadata": {
        "colab": {
          "base_uri": "https://localhost:8080/"
        },
        "id": "0a3fb133-0720-4ef2-aa36-8a03f3072256",
        "outputId": "6408be06-d6ae-4ce7-bcf5-1f12f8cfe43b"
      },
      "outputs": [
        {
          "name": "stdout",
          "output_type": "stream",
          "text": [
            "1350\n"
          ]
        }
      ],
      "source": [
        "#implement save to file \n",
        "print(len(style_transferred_sent))\n",
        "with open('style_transferred_sent.txt', 'w') as f:\n",
        "    for line in style_transferred_sent:\n",
        "        f.write(line)\n",
        "        f.write('\\n')"
      ]
    },
    {
      "cell_type": "markdown",
      "id": "1b9de7f8-7391-4452-8f4e-2027bd0de728",
      "metadata": {
        "id": "1b9de7f8-7391-4452-8f4e-2027bd0de728"
      },
      "source": [
        "## Evaluate the output using BLEU"
      ]
    },
    {
      "cell_type": "code",
      "execution_count": 59,
      "id": "FEQuEauaibXk",
      "metadata": {
        "colab": {
          "base_uri": "https://localhost:8080/"
        },
        "id": "FEQuEauaibXk",
        "outputId": "c4713c02-6345-498d-b97d-ddd10776f4f6"
      },
      "outputs": [],
      "source": [
        "# !pip install sacrebleu"
      ]
    },
    {
      "cell_type": "code",
      "execution_count": 60,
      "id": "371af43c-2e75-4e48-a3dd-b2ecdac15992",
      "metadata": {
        "colab": {
          "base_uri": "https://localhost:8080/"
        },
        "id": "371af43c-2e75-4e48-a3dd-b2ecdac15992",
        "outputId": "e5e0348b-acb6-4de0-98fa-c6ab0039ce79"
      },
      "outputs": [
        {
          "name": "stdout",
          "output_type": "stream",
          "text": [
            "BLEU = 7.75 72.7/5.6/3.6/2.5 (BP = 1.000 ratio = 2.750 hyp_len = 11 ref_len = 4)\n"
          ]
        }
      ],
      "source": [
        "from sacrebleu.metrics import BLEU\n",
        "\n",
        "bleu = BLEU()\n",
        "\n",
        "#BLEU metric \n",
        "temp = filter_lines(test_original_sents, MAX_LEN) # removing UNK tokens \n",
        "\n",
        "result = bleu.corpus_score(style_transferred_sent, temp)\n",
        "\n",
        "print(result)"
      ]
    },
    {
      "cell_type": "markdown",
      "id": "lOEkenU5jjBM",
      "metadata": {
        "id": "lOEkenU5jjBM"
      },
      "source": [
        " LSTM-RNNs can perform better than encoder-decoder\n",
        "architectures for style transfer because they are\n",
        "able to capture long-term dependencies in the data.\n",
        "This means that they can better capture the nuances\n",
        "of the style being transferred, allowing for more\n",
        "accurate and detailed style transfer. Additionally,\n",
        "LSTM-RNNs are able to learn from the data in an\n",
        "unsupervised manner, meaning that they can learn\n",
        "from the data without the need for labeled data.\n",
        "This makes them more efficient and effective than\n",
        "encoder-decoder architectures, which require labeled\n",
        "data for training."
      ]
    }
  ],
  "metadata": {
    "colab": {
      "provenance": []
    },
    "kernelspec": {
      "display_name": "pytorch",
      "language": "python",
      "name": "python3"
    },
    "language_info": {
      "codemirror_mode": {
        "name": "ipython",
        "version": 3
      },
      "file_extension": ".py",
      "mimetype": "text/x-python",
      "name": "python",
      "nbconvert_exporter": "python",
      "pygments_lexer": "ipython3",
      "version": "3.9.13"
    },
    "vscode": {
      "interpreter": {
        "hash": "ff29ac03daff1520ad4db205576eb60a0bef263ceae411ab8bd5552b57cbc1fd"
      }
    }
  },
  "nbformat": 4,
  "nbformat_minor": 5
}
